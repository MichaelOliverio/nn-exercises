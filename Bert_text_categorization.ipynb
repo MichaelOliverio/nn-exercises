{
  "cells": [
    {
      "cell_type": "markdown",
      "metadata": {
        "id": "VSFfHmR0pm8C"
      },
      "source": [
        "# Esercitazione"
      ]
    },
    {
      "cell_type": "code",
      "execution_count": null,
      "metadata": {
        "colab": {
          "base_uri": "https://localhost:8080/"
        },
        "id": "S9GKA8sBpsIQ",
        "outputId": "affc568e-b6de-4c34-f27a-2b005c0ea5c6"
      },
      "outputs": [
        {
          "output_type": "stream",
          "name": "stdout",
          "text": [
            "Looking in indexes: https://pypi.org/simple, https://us-python.pkg.dev/colab-wheels/public/simple/\n",
            "Requirement already satisfied: tensorflow in /usr/local/lib/python3.10/dist-packages (2.12.0)\n",
            "Requirement already satisfied: absl-py>=1.0.0 in /usr/local/lib/python3.10/dist-packages (from tensorflow) (1.4.0)\n",
            "Requirement already satisfied: astunparse>=1.6.0 in /usr/local/lib/python3.10/dist-packages (from tensorflow) (1.6.3)\n",
            "Requirement already satisfied: flatbuffers>=2.0 in /usr/local/lib/python3.10/dist-packages (from tensorflow) (23.3.3)\n",
            "Requirement already satisfied: gast<=0.4.0,>=0.2.1 in /usr/local/lib/python3.10/dist-packages (from tensorflow) (0.4.0)\n",
            "Requirement already satisfied: google-pasta>=0.1.1 in /usr/local/lib/python3.10/dist-packages (from tensorflow) (0.2.0)\n",
            "Requirement already satisfied: grpcio<2.0,>=1.24.3 in /usr/local/lib/python3.10/dist-packages (from tensorflow) (1.54.0)\n",
            "Requirement already satisfied: h5py>=2.9.0 in /usr/local/lib/python3.10/dist-packages (from tensorflow) (3.8.0)\n",
            "Requirement already satisfied: jax>=0.3.15 in /usr/local/lib/python3.10/dist-packages (from tensorflow) (0.4.8)\n",
            "Requirement already satisfied: keras<2.13,>=2.12.0 in /usr/local/lib/python3.10/dist-packages (from tensorflow) (2.12.0)\n",
            "Requirement already satisfied: libclang>=13.0.0 in /usr/local/lib/python3.10/dist-packages (from tensorflow) (16.0.0)\n",
            "Requirement already satisfied: numpy<1.24,>=1.22 in /usr/local/lib/python3.10/dist-packages (from tensorflow) (1.23.5)\n",
            "Requirement already satisfied: opt-einsum>=2.3.2 in /usr/local/lib/python3.10/dist-packages (from tensorflow) (3.3.0)\n",
            "Requirement already satisfied: packaging in /usr/local/lib/python3.10/dist-packages (from tensorflow) (23.1)\n",
            "Requirement already satisfied: protobuf!=4.21.0,!=4.21.1,!=4.21.2,!=4.21.3,!=4.21.4,!=4.21.5,<5.0.0dev,>=3.20.3 in /usr/local/lib/python3.10/dist-packages (from tensorflow) (3.20.3)\n",
            "Requirement already satisfied: setuptools in /usr/local/lib/python3.10/dist-packages (from tensorflow) (67.7.2)\n",
            "Requirement already satisfied: six>=1.12.0 in /usr/local/lib/python3.10/dist-packages (from tensorflow) (1.16.0)\n",
            "Requirement already satisfied: tensorboard<2.13,>=2.12 in /usr/local/lib/python3.10/dist-packages (from tensorflow) (2.12.2)\n",
            "Requirement already satisfied: tensorflow-estimator<2.13,>=2.12.0 in /usr/local/lib/python3.10/dist-packages (from tensorflow) (2.12.0)\n",
            "Requirement already satisfied: termcolor>=1.1.0 in /usr/local/lib/python3.10/dist-packages (from tensorflow) (2.3.0)\n",
            "Requirement already satisfied: typing-extensions>=3.6.6 in /usr/local/lib/python3.10/dist-packages (from tensorflow) (4.5.0)\n",
            "Requirement already satisfied: wrapt<1.15,>=1.11.0 in /usr/local/lib/python3.10/dist-packages (from tensorflow) (1.14.1)\n",
            "Requirement already satisfied: tensorflow-io-gcs-filesystem>=0.23.1 in /usr/local/lib/python3.10/dist-packages (from tensorflow) (0.32.0)\n",
            "Requirement already satisfied: wheel<1.0,>=0.23.0 in /usr/local/lib/python3.10/dist-packages (from astunparse>=1.6.0->tensorflow) (0.40.0)\n",
            "Requirement already satisfied: ml-dtypes>=0.0.3 in /usr/local/lib/python3.10/dist-packages (from jax>=0.3.15->tensorflow) (0.1.0)\n",
            "Requirement already satisfied: scipy>=1.7 in /usr/local/lib/python3.10/dist-packages (from jax>=0.3.15->tensorflow) (1.10.1)\n",
            "Requirement already satisfied: google-auth<3,>=1.6.3 in /usr/local/lib/python3.10/dist-packages (from tensorboard<2.13,>=2.12->tensorflow) (2.17.3)\n",
            "Requirement already satisfied: google-auth-oauthlib<1.1,>=0.5 in /usr/local/lib/python3.10/dist-packages (from tensorboard<2.13,>=2.12->tensorflow) (1.0.0)\n",
            "Requirement already satisfied: markdown>=2.6.8 in /usr/local/lib/python3.10/dist-packages (from tensorboard<2.13,>=2.12->tensorflow) (3.4.3)\n",
            "Requirement already satisfied: requests<3,>=2.21.0 in /usr/local/lib/python3.10/dist-packages (from tensorboard<2.13,>=2.12->tensorflow) (2.27.1)\n",
            "Requirement already satisfied: tensorboard-data-server<0.8.0,>=0.7.0 in /usr/local/lib/python3.10/dist-packages (from tensorboard<2.13,>=2.12->tensorflow) (0.7.0)\n",
            "Requirement already satisfied: tensorboard-plugin-wit>=1.6.0 in /usr/local/lib/python3.10/dist-packages (from tensorboard<2.13,>=2.12->tensorflow) (1.8.1)\n",
            "Requirement already satisfied: werkzeug>=1.0.1 in /usr/local/lib/python3.10/dist-packages (from tensorboard<2.13,>=2.12->tensorflow) (2.3.0)\n",
            "Requirement already satisfied: cachetools<6.0,>=2.0.0 in /usr/local/lib/python3.10/dist-packages (from google-auth<3,>=1.6.3->tensorboard<2.13,>=2.12->tensorflow) (5.3.0)\n",
            "Requirement already satisfied: pyasn1-modules>=0.2.1 in /usr/local/lib/python3.10/dist-packages (from google-auth<3,>=1.6.3->tensorboard<2.13,>=2.12->tensorflow) (0.3.0)\n",
            "Requirement already satisfied: rsa<5,>=3.1.4 in /usr/local/lib/python3.10/dist-packages (from google-auth<3,>=1.6.3->tensorboard<2.13,>=2.12->tensorflow) (4.9)\n",
            "Requirement already satisfied: requests-oauthlib>=0.7.0 in /usr/local/lib/python3.10/dist-packages (from google-auth-oauthlib<1.1,>=0.5->tensorboard<2.13,>=2.12->tensorflow) (1.3.1)\n",
            "Requirement already satisfied: urllib3<1.27,>=1.21.1 in /usr/local/lib/python3.10/dist-packages (from requests<3,>=2.21.0->tensorboard<2.13,>=2.12->tensorflow) (1.26.15)\n",
            "Requirement already satisfied: certifi>=2017.4.17 in /usr/local/lib/python3.10/dist-packages (from requests<3,>=2.21.0->tensorboard<2.13,>=2.12->tensorflow) (2022.12.7)\n",
            "Requirement already satisfied: charset-normalizer~=2.0.0 in /usr/local/lib/python3.10/dist-packages (from requests<3,>=2.21.0->tensorboard<2.13,>=2.12->tensorflow) (2.0.12)\n",
            "Requirement already satisfied: idna<4,>=2.5 in /usr/local/lib/python3.10/dist-packages (from requests<3,>=2.21.0->tensorboard<2.13,>=2.12->tensorflow) (3.4)\n",
            "Requirement already satisfied: MarkupSafe>=2.1.1 in /usr/local/lib/python3.10/dist-packages (from werkzeug>=1.0.1->tensorboard<2.13,>=2.12->tensorflow) (2.1.2)\n",
            "Requirement already satisfied: pyasn1<0.6.0,>=0.4.6 in /usr/local/lib/python3.10/dist-packages (from pyasn1-modules>=0.2.1->google-auth<3,>=1.6.3->tensorboard<2.13,>=2.12->tensorflow) (0.5.0)\n",
            "Requirement already satisfied: oauthlib>=3.0.0 in /usr/local/lib/python3.10/dist-packages (from requests-oauthlib>=0.7.0->google-auth-oauthlib<1.1,>=0.5->tensorboard<2.13,>=2.12->tensorflow) (3.2.2)\n",
            "Looking in indexes: https://pypi.org/simple, https://us-python.pkg.dev/colab-wheels/public/simple/\n",
            "Requirement already satisfied: tf-models-official in /usr/local/lib/python3.10/dist-packages (2.12.0)\n",
            "Requirement already satisfied: Cython in /usr/local/lib/python3.10/dist-packages (from tf-models-official) (0.29.34)\n",
            "Requirement already satisfied: Pillow in /usr/local/lib/python3.10/dist-packages (from tf-models-official) (8.4.0)\n",
            "Requirement already satisfied: gin-config in /usr/local/lib/python3.10/dist-packages (from tf-models-official) (0.5.0)\n",
            "Requirement already satisfied: google-api-python-client>=1.6.7 in /usr/local/lib/python3.10/dist-packages (from tf-models-official) (2.84.0)\n",
            "Requirement already satisfied: immutabledict in /usr/local/lib/python3.10/dist-packages (from tf-models-official) (2.2.4)\n",
            "Requirement already satisfied: kaggle>=1.3.9 in /usr/local/lib/python3.10/dist-packages (from tf-models-official) (1.5.13)\n",
            "Requirement already satisfied: matplotlib in /usr/local/lib/python3.10/dist-packages (from tf-models-official) (3.7.1)\n",
            "Requirement already satisfied: numpy>=1.20 in /usr/local/lib/python3.10/dist-packages (from tf-models-official) (1.23.5)\n",
            "Requirement already satisfied: oauth2client in /usr/local/lib/python3.10/dist-packages (from tf-models-official) (4.1.3)\n",
            "Requirement already satisfied: opencv-python-headless in /usr/local/lib/python3.10/dist-packages (from tf-models-official) (4.7.0.72)\n",
            "Requirement already satisfied: pandas>=0.22.0 in /usr/local/lib/python3.10/dist-packages (from tf-models-official) (1.5.3)\n",
            "Requirement already satisfied: psutil>=5.4.3 in /usr/local/lib/python3.10/dist-packages (from tf-models-official) (5.9.5)\n",
            "Requirement already satisfied: py-cpuinfo>=3.3.0 in /usr/local/lib/python3.10/dist-packages (from tf-models-official) (9.0.0)\n",
            "Requirement already satisfied: pycocotools in /usr/local/lib/python3.10/dist-packages (from tf-models-official) (2.0.6)\n",
            "Requirement already satisfied: pyyaml<6.0,>=5.1 in /usr/local/lib/python3.10/dist-packages (from tf-models-official) (5.4.1)\n",
            "Requirement already satisfied: sacrebleu in /usr/local/lib/python3.10/dist-packages (from tf-models-official) (2.3.1)\n",
            "Requirement already satisfied: scipy>=0.19.1 in /usr/local/lib/python3.10/dist-packages (from tf-models-official) (1.10.1)\n",
            "Requirement already satisfied: sentencepiece in /usr/local/lib/python3.10/dist-packages (from tf-models-official) (0.1.99)\n",
            "Requirement already satisfied: seqeval in /usr/local/lib/python3.10/dist-packages (from tf-models-official) (1.2.2)\n",
            "Requirement already satisfied: six in /usr/local/lib/python3.10/dist-packages (from tf-models-official) (1.16.0)\n",
            "Requirement already satisfied: tensorflow-addons in /usr/local/lib/python3.10/dist-packages (from tf-models-official) (0.20.0)\n",
            "Requirement already satisfied: tensorflow-datasets in /usr/local/lib/python3.10/dist-packages (from tf-models-official) (4.9.2)\n",
            "Requirement already satisfied: tensorflow-hub>=0.6.0 in /usr/local/lib/python3.10/dist-packages (from tf-models-official) (0.13.0)\n",
            "Requirement already satisfied: tensorflow-model-optimization>=0.4.1 in /usr/local/lib/python3.10/dist-packages (from tf-models-official) (0.7.4)\n",
            "Requirement already satisfied: tensorflow-text~=2.12.0 in /usr/local/lib/python3.10/dist-packages (from tf-models-official) (2.12.1)\n",
            "Requirement already satisfied: tensorflow~=2.12.0 in /usr/local/lib/python3.10/dist-packages (from tf-models-official) (2.12.0)\n",
            "Requirement already satisfied: tf-slim>=1.1.0 in /usr/local/lib/python3.10/dist-packages (from tf-models-official) (1.1.0)\n",
            "Requirement already satisfied: httplib2<1dev,>=0.15.0 in /usr/local/lib/python3.10/dist-packages (from google-api-python-client>=1.6.7->tf-models-official) (0.21.0)\n",
            "Requirement already satisfied: google-auth<3.0.0dev,>=1.19.0 in /usr/local/lib/python3.10/dist-packages (from google-api-python-client>=1.6.7->tf-models-official) (2.17.3)\n",
            "Requirement already satisfied: google-auth-httplib2>=0.1.0 in /usr/local/lib/python3.10/dist-packages (from google-api-python-client>=1.6.7->tf-models-official) (0.1.0)\n",
            "Requirement already satisfied: google-api-core!=2.0.*,!=2.1.*,!=2.2.*,!=2.3.0,<3.0.0dev,>=1.31.5 in /usr/local/lib/python3.10/dist-packages (from google-api-python-client>=1.6.7->tf-models-official) (2.11.0)\n",
            "Requirement already satisfied: uritemplate<5,>=3.0.1 in /usr/local/lib/python3.10/dist-packages (from google-api-python-client>=1.6.7->tf-models-official) (4.1.1)\n",
            "Requirement already satisfied: certifi in /usr/local/lib/python3.10/dist-packages (from kaggle>=1.3.9->tf-models-official) (2022.12.7)\n",
            "Requirement already satisfied: python-dateutil in /usr/local/lib/python3.10/dist-packages (from kaggle>=1.3.9->tf-models-official) (2.8.2)\n",
            "Requirement already satisfied: requests in /usr/local/lib/python3.10/dist-packages (from kaggle>=1.3.9->tf-models-official) (2.27.1)\n",
            "Requirement already satisfied: tqdm in /usr/local/lib/python3.10/dist-packages (from kaggle>=1.3.9->tf-models-official) (4.65.0)\n",
            "Requirement already satisfied: python-slugify in /usr/local/lib/python3.10/dist-packages (from kaggle>=1.3.9->tf-models-official) (8.0.1)\n",
            "Requirement already satisfied: urllib3 in /usr/local/lib/python3.10/dist-packages (from kaggle>=1.3.9->tf-models-official) (1.26.15)\n",
            "Requirement already satisfied: pytz>=2020.1 in /usr/local/lib/python3.10/dist-packages (from pandas>=0.22.0->tf-models-official) (2022.7.1)\n",
            "Requirement already satisfied: absl-py>=1.0.0 in /usr/local/lib/python3.10/dist-packages (from tensorflow~=2.12.0->tf-models-official) (1.4.0)\n",
            "Requirement already satisfied: astunparse>=1.6.0 in /usr/local/lib/python3.10/dist-packages (from tensorflow~=2.12.0->tf-models-official) (1.6.3)\n",
            "Requirement already satisfied: flatbuffers>=2.0 in /usr/local/lib/python3.10/dist-packages (from tensorflow~=2.12.0->tf-models-official) (23.3.3)\n",
            "Requirement already satisfied: gast<=0.4.0,>=0.2.1 in /usr/local/lib/python3.10/dist-packages (from tensorflow~=2.12.0->tf-models-official) (0.4.0)\n",
            "Requirement already satisfied: google-pasta>=0.1.1 in /usr/local/lib/python3.10/dist-packages (from tensorflow~=2.12.0->tf-models-official) (0.2.0)\n",
            "Requirement already satisfied: grpcio<2.0,>=1.24.3 in /usr/local/lib/python3.10/dist-packages (from tensorflow~=2.12.0->tf-models-official) (1.54.0)\n",
            "Requirement already satisfied: h5py>=2.9.0 in /usr/local/lib/python3.10/dist-packages (from tensorflow~=2.12.0->tf-models-official) (3.8.0)\n",
            "Requirement already satisfied: jax>=0.3.15 in /usr/local/lib/python3.10/dist-packages (from tensorflow~=2.12.0->tf-models-official) (0.4.8)\n",
            "Requirement already satisfied: keras<2.13,>=2.12.0 in /usr/local/lib/python3.10/dist-packages (from tensorflow~=2.12.0->tf-models-official) (2.12.0)\n",
            "Requirement already satisfied: libclang>=13.0.0 in /usr/local/lib/python3.10/dist-packages (from tensorflow~=2.12.0->tf-models-official) (16.0.0)\n",
            "Requirement already satisfied: opt-einsum>=2.3.2 in /usr/local/lib/python3.10/dist-packages (from tensorflow~=2.12.0->tf-models-official) (3.3.0)\n",
            "Requirement already satisfied: packaging in /usr/local/lib/python3.10/dist-packages (from tensorflow~=2.12.0->tf-models-official) (23.1)\n",
            "Requirement already satisfied: protobuf!=4.21.0,!=4.21.1,!=4.21.2,!=4.21.3,!=4.21.4,!=4.21.5,<5.0.0dev,>=3.20.3 in /usr/local/lib/python3.10/dist-packages (from tensorflow~=2.12.0->tf-models-official) (3.20.3)\n",
            "Requirement already satisfied: setuptools in /usr/local/lib/python3.10/dist-packages (from tensorflow~=2.12.0->tf-models-official) (67.7.2)\n",
            "Requirement already satisfied: tensorboard<2.13,>=2.12 in /usr/local/lib/python3.10/dist-packages (from tensorflow~=2.12.0->tf-models-official) (2.12.2)\n",
            "Requirement already satisfied: tensorflow-estimator<2.13,>=2.12.0 in /usr/local/lib/python3.10/dist-packages (from tensorflow~=2.12.0->tf-models-official) (2.12.0)\n",
            "Requirement already satisfied: termcolor>=1.1.0 in /usr/local/lib/python3.10/dist-packages (from tensorflow~=2.12.0->tf-models-official) (2.3.0)\n",
            "Requirement already satisfied: typing-extensions>=3.6.6 in /usr/local/lib/python3.10/dist-packages (from tensorflow~=2.12.0->tf-models-official) (4.5.0)\n",
            "Requirement already satisfied: wrapt<1.15,>=1.11.0 in /usr/local/lib/python3.10/dist-packages (from tensorflow~=2.12.0->tf-models-official) (1.14.1)\n",
            "Requirement already satisfied: tensorflow-io-gcs-filesystem>=0.23.1 in /usr/local/lib/python3.10/dist-packages (from tensorflow~=2.12.0->tf-models-official) (0.32.0)\n",
            "Requirement already satisfied: dm-tree~=0.1.1 in /usr/local/lib/python3.10/dist-packages (from tensorflow-model-optimization>=0.4.1->tf-models-official) (0.1.8)\n",
            "Requirement already satisfied: contourpy>=1.0.1 in /usr/local/lib/python3.10/dist-packages (from matplotlib->tf-models-official) (1.0.7)\n",
            "Requirement already satisfied: cycler>=0.10 in /usr/local/lib/python3.10/dist-packages (from matplotlib->tf-models-official) (0.11.0)\n",
            "Requirement already satisfied: fonttools>=4.22.0 in /usr/local/lib/python3.10/dist-packages (from matplotlib->tf-models-official) (4.39.3)\n",
            "Requirement already satisfied: kiwisolver>=1.0.1 in /usr/local/lib/python3.10/dist-packages (from matplotlib->tf-models-official) (1.4.4)\n",
            "Requirement already satisfied: pyparsing>=2.3.1 in /usr/local/lib/python3.10/dist-packages (from matplotlib->tf-models-official) (3.0.9)\n",
            "Requirement already satisfied: pyasn1>=0.1.7 in /usr/local/lib/python3.10/dist-packages (from oauth2client->tf-models-official) (0.5.0)\n",
            "Requirement already satisfied: pyasn1-modules>=0.0.5 in /usr/local/lib/python3.10/dist-packages (from oauth2client->tf-models-official) (0.3.0)\n",
            "Requirement already satisfied: rsa>=3.1.4 in /usr/local/lib/python3.10/dist-packages (from oauth2client->tf-models-official) (4.9)\n",
            "Requirement already satisfied: portalocker in /usr/local/lib/python3.10/dist-packages (from sacrebleu->tf-models-official) (2.7.0)\n",
            "Requirement already satisfied: regex in /usr/local/lib/python3.10/dist-packages (from sacrebleu->tf-models-official) (2022.10.31)\n",
            "Requirement already satisfied: tabulate>=0.8.9 in /usr/local/lib/python3.10/dist-packages (from sacrebleu->tf-models-official) (0.8.10)\n",
            "Requirement already satisfied: colorama in /usr/local/lib/python3.10/dist-packages (from sacrebleu->tf-models-official) (0.4.6)\n",
            "Requirement already satisfied: lxml in /usr/local/lib/python3.10/dist-packages (from sacrebleu->tf-models-official) (4.9.2)\n",
            "Requirement already satisfied: scikit-learn>=0.21.3 in /usr/local/lib/python3.10/dist-packages (from seqeval->tf-models-official) (1.2.2)\n",
            "Requirement already satisfied: typeguard<3.0.0,>=2.7 in /usr/local/lib/python3.10/dist-packages (from tensorflow-addons->tf-models-official) (2.13.3)\n",
            "Requirement already satisfied: array-record in /usr/local/lib/python3.10/dist-packages (from tensorflow-datasets->tf-models-official) (0.2.0)\n",
            "Requirement already satisfied: click in /usr/local/lib/python3.10/dist-packages (from tensorflow-datasets->tf-models-official) (8.1.3)\n",
            "Requirement already satisfied: etils[enp,epath]>=0.9.0 in /usr/local/lib/python3.10/dist-packages (from tensorflow-datasets->tf-models-official) (1.2.0)\n",
            "Requirement already satisfied: promise in /usr/local/lib/python3.10/dist-packages (from tensorflow-datasets->tf-models-official) (2.3)\n",
            "Requirement already satisfied: tensorflow-metadata in /usr/local/lib/python3.10/dist-packages (from tensorflow-datasets->tf-models-official) (1.13.1)\n",
            "Requirement already satisfied: toml in /usr/local/lib/python3.10/dist-packages (from tensorflow-datasets->tf-models-official) (0.10.2)\n",
            "Requirement already satisfied: wheel<1.0,>=0.23.0 in /usr/local/lib/python3.10/dist-packages (from astunparse>=1.6.0->tensorflow~=2.12.0->tf-models-official) (0.40.0)\n",
            "Requirement already satisfied: importlib_resources in /usr/local/lib/python3.10/dist-packages (from etils[enp,epath]>=0.9.0->tensorflow-datasets->tf-models-official) (5.12.0)\n",
            "Requirement already satisfied: zipp in /usr/local/lib/python3.10/dist-packages (from etils[enp,epath]>=0.9.0->tensorflow-datasets->tf-models-official) (3.15.0)\n",
            "Requirement already satisfied: googleapis-common-protos<2.0dev,>=1.56.2 in /usr/local/lib/python3.10/dist-packages (from google-api-core!=2.0.*,!=2.1.*,!=2.2.*,!=2.3.0,<3.0.0dev,>=1.31.5->google-api-python-client>=1.6.7->tf-models-official) (1.59.0)\n",
            "Requirement already satisfied: cachetools<6.0,>=2.0.0 in /usr/local/lib/python3.10/dist-packages (from google-auth<3.0.0dev,>=1.19.0->google-api-python-client>=1.6.7->tf-models-official) (5.3.0)\n",
            "Requirement already satisfied: ml-dtypes>=0.0.3 in /usr/local/lib/python3.10/dist-packages (from jax>=0.3.15->tensorflow~=2.12.0->tf-models-official) (0.1.0)\n",
            "Requirement already satisfied: charset-normalizer~=2.0.0 in /usr/local/lib/python3.10/dist-packages (from requests->kaggle>=1.3.9->tf-models-official) (2.0.12)\n",
            "Requirement already satisfied: idna<4,>=2.5 in /usr/local/lib/python3.10/dist-packages (from requests->kaggle>=1.3.9->tf-models-official) (3.4)\n",
            "Requirement already satisfied: joblib>=1.1.1 in /usr/local/lib/python3.10/dist-packages (from scikit-learn>=0.21.3->seqeval->tf-models-official) (1.2.0)\n",
            "Requirement already satisfied: threadpoolctl>=2.0.0 in /usr/local/lib/python3.10/dist-packages (from scikit-learn>=0.21.3->seqeval->tf-models-official) (3.1.0)\n",
            "Requirement already satisfied: google-auth-oauthlib<1.1,>=0.5 in /usr/local/lib/python3.10/dist-packages (from tensorboard<2.13,>=2.12->tensorflow~=2.12.0->tf-models-official) (1.0.0)\n",
            "Requirement already satisfied: markdown>=2.6.8 in /usr/local/lib/python3.10/dist-packages (from tensorboard<2.13,>=2.12->tensorflow~=2.12.0->tf-models-official) (3.4.3)\n",
            "Requirement already satisfied: tensorboard-data-server<0.8.0,>=0.7.0 in /usr/local/lib/python3.10/dist-packages (from tensorboard<2.13,>=2.12->tensorflow~=2.12.0->tf-models-official) (0.7.0)\n",
            "Requirement already satisfied: tensorboard-plugin-wit>=1.6.0 in /usr/local/lib/python3.10/dist-packages (from tensorboard<2.13,>=2.12->tensorflow~=2.12.0->tf-models-official) (1.8.1)\n",
            "Requirement already satisfied: werkzeug>=1.0.1 in /usr/local/lib/python3.10/dist-packages (from tensorboard<2.13,>=2.12->tensorflow~=2.12.0->tf-models-official) (2.3.0)\n",
            "Requirement already satisfied: text-unidecode>=1.3 in /usr/local/lib/python3.10/dist-packages (from python-slugify->kaggle>=1.3.9->tf-models-official) (1.3)\n",
            "Requirement already satisfied: requests-oauthlib>=0.7.0 in /usr/local/lib/python3.10/dist-packages (from google-auth-oauthlib<1.1,>=0.5->tensorboard<2.13,>=2.12->tensorflow~=2.12.0->tf-models-official) (1.3.1)\n",
            "Requirement already satisfied: MarkupSafe>=2.1.1 in /usr/local/lib/python3.10/dist-packages (from werkzeug>=1.0.1->tensorboard<2.13,>=2.12->tensorflow~=2.12.0->tf-models-official) (2.1.2)\n",
            "Requirement already satisfied: oauthlib>=3.0.0 in /usr/local/lib/python3.10/dist-packages (from requests-oauthlib>=0.7.0->google-auth-oauthlib<1.1,>=0.5->tensorboard<2.13,>=2.12->tensorflow~=2.12.0->tf-models-official) (3.2.2)\n",
            "Looking in indexes: https://pypi.org/simple, https://us-python.pkg.dev/colab-wheels/public/simple/\n",
            "Requirement already satisfied: tensorflow_text in /usr/local/lib/python3.10/dist-packages (2.12.1)\n",
            "Requirement already satisfied: tensorflow-hub>=0.8.0 in /usr/local/lib/python3.10/dist-packages (from tensorflow_text) (0.13.0)\n",
            "Requirement already satisfied: tensorflow<2.13,>=2.12.0 in /usr/local/lib/python3.10/dist-packages (from tensorflow_text) (2.12.0)\n",
            "Requirement already satisfied: absl-py>=1.0.0 in /usr/local/lib/python3.10/dist-packages (from tensorflow<2.13,>=2.12.0->tensorflow_text) (1.4.0)\n",
            "Requirement already satisfied: astunparse>=1.6.0 in /usr/local/lib/python3.10/dist-packages (from tensorflow<2.13,>=2.12.0->tensorflow_text) (1.6.3)\n",
            "Requirement already satisfied: flatbuffers>=2.0 in /usr/local/lib/python3.10/dist-packages (from tensorflow<2.13,>=2.12.0->tensorflow_text) (23.3.3)\n",
            "Requirement already satisfied: gast<=0.4.0,>=0.2.1 in /usr/local/lib/python3.10/dist-packages (from tensorflow<2.13,>=2.12.0->tensorflow_text) (0.4.0)\n",
            "Requirement already satisfied: google-pasta>=0.1.1 in /usr/local/lib/python3.10/dist-packages (from tensorflow<2.13,>=2.12.0->tensorflow_text) (0.2.0)\n",
            "Requirement already satisfied: grpcio<2.0,>=1.24.3 in /usr/local/lib/python3.10/dist-packages (from tensorflow<2.13,>=2.12.0->tensorflow_text) (1.54.0)\n",
            "Requirement already satisfied: h5py>=2.9.0 in /usr/local/lib/python3.10/dist-packages (from tensorflow<2.13,>=2.12.0->tensorflow_text) (3.8.0)\n",
            "Requirement already satisfied: jax>=0.3.15 in /usr/local/lib/python3.10/dist-packages (from tensorflow<2.13,>=2.12.0->tensorflow_text) (0.4.8)\n",
            "Requirement already satisfied: keras<2.13,>=2.12.0 in /usr/local/lib/python3.10/dist-packages (from tensorflow<2.13,>=2.12.0->tensorflow_text) (2.12.0)\n",
            "Requirement already satisfied: libclang>=13.0.0 in /usr/local/lib/python3.10/dist-packages (from tensorflow<2.13,>=2.12.0->tensorflow_text) (16.0.0)\n",
            "Requirement already satisfied: numpy<1.24,>=1.22 in /usr/local/lib/python3.10/dist-packages (from tensorflow<2.13,>=2.12.0->tensorflow_text) (1.23.5)\n",
            "Requirement already satisfied: opt-einsum>=2.3.2 in /usr/local/lib/python3.10/dist-packages (from tensorflow<2.13,>=2.12.0->tensorflow_text) (3.3.0)\n",
            "Requirement already satisfied: packaging in /usr/local/lib/python3.10/dist-packages (from tensorflow<2.13,>=2.12.0->tensorflow_text) (23.1)\n",
            "Requirement already satisfied: protobuf!=4.21.0,!=4.21.1,!=4.21.2,!=4.21.3,!=4.21.4,!=4.21.5,<5.0.0dev,>=3.20.3 in /usr/local/lib/python3.10/dist-packages (from tensorflow<2.13,>=2.12.0->tensorflow_text) (3.20.3)\n",
            "Requirement already satisfied: setuptools in /usr/local/lib/python3.10/dist-packages (from tensorflow<2.13,>=2.12.0->tensorflow_text) (67.7.2)\n",
            "Requirement already satisfied: six>=1.12.0 in /usr/local/lib/python3.10/dist-packages (from tensorflow<2.13,>=2.12.0->tensorflow_text) (1.16.0)\n",
            "Requirement already satisfied: tensorboard<2.13,>=2.12 in /usr/local/lib/python3.10/dist-packages (from tensorflow<2.13,>=2.12.0->tensorflow_text) (2.12.2)\n",
            "Requirement already satisfied: tensorflow-estimator<2.13,>=2.12.0 in /usr/local/lib/python3.10/dist-packages (from tensorflow<2.13,>=2.12.0->tensorflow_text) (2.12.0)\n",
            "Requirement already satisfied: termcolor>=1.1.0 in /usr/local/lib/python3.10/dist-packages (from tensorflow<2.13,>=2.12.0->tensorflow_text) (2.3.0)\n",
            "Requirement already satisfied: typing-extensions>=3.6.6 in /usr/local/lib/python3.10/dist-packages (from tensorflow<2.13,>=2.12.0->tensorflow_text) (4.5.0)\n",
            "Requirement already satisfied: wrapt<1.15,>=1.11.0 in /usr/local/lib/python3.10/dist-packages (from tensorflow<2.13,>=2.12.0->tensorflow_text) (1.14.1)\n",
            "Requirement already satisfied: tensorflow-io-gcs-filesystem>=0.23.1 in /usr/local/lib/python3.10/dist-packages (from tensorflow<2.13,>=2.12.0->tensorflow_text) (0.32.0)\n",
            "Requirement already satisfied: wheel<1.0,>=0.23.0 in /usr/local/lib/python3.10/dist-packages (from astunparse>=1.6.0->tensorflow<2.13,>=2.12.0->tensorflow_text) (0.40.0)\n",
            "Requirement already satisfied: ml-dtypes>=0.0.3 in /usr/local/lib/python3.10/dist-packages (from jax>=0.3.15->tensorflow<2.13,>=2.12.0->tensorflow_text) (0.1.0)\n",
            "Requirement already satisfied: scipy>=1.7 in /usr/local/lib/python3.10/dist-packages (from jax>=0.3.15->tensorflow<2.13,>=2.12.0->tensorflow_text) (1.10.1)\n",
            "Requirement already satisfied: google-auth<3,>=1.6.3 in /usr/local/lib/python3.10/dist-packages (from tensorboard<2.13,>=2.12->tensorflow<2.13,>=2.12.0->tensorflow_text) (2.17.3)\n",
            "Requirement already satisfied: google-auth-oauthlib<1.1,>=0.5 in /usr/local/lib/python3.10/dist-packages (from tensorboard<2.13,>=2.12->tensorflow<2.13,>=2.12.0->tensorflow_text) (1.0.0)\n",
            "Requirement already satisfied: markdown>=2.6.8 in /usr/local/lib/python3.10/dist-packages (from tensorboard<2.13,>=2.12->tensorflow<2.13,>=2.12.0->tensorflow_text) (3.4.3)\n",
            "Requirement already satisfied: requests<3,>=2.21.0 in /usr/local/lib/python3.10/dist-packages (from tensorboard<2.13,>=2.12->tensorflow<2.13,>=2.12.0->tensorflow_text) (2.27.1)\n",
            "Requirement already satisfied: tensorboard-data-server<0.8.0,>=0.7.0 in /usr/local/lib/python3.10/dist-packages (from tensorboard<2.13,>=2.12->tensorflow<2.13,>=2.12.0->tensorflow_text) (0.7.0)\n",
            "Requirement already satisfied: tensorboard-plugin-wit>=1.6.0 in /usr/local/lib/python3.10/dist-packages (from tensorboard<2.13,>=2.12->tensorflow<2.13,>=2.12.0->tensorflow_text) (1.8.1)\n",
            "Requirement already satisfied: werkzeug>=1.0.1 in /usr/local/lib/python3.10/dist-packages (from tensorboard<2.13,>=2.12->tensorflow<2.13,>=2.12.0->tensorflow_text) (2.3.0)\n",
            "Requirement already satisfied: cachetools<6.0,>=2.0.0 in /usr/local/lib/python3.10/dist-packages (from google-auth<3,>=1.6.3->tensorboard<2.13,>=2.12->tensorflow<2.13,>=2.12.0->tensorflow_text) (5.3.0)\n",
            "Requirement already satisfied: pyasn1-modules>=0.2.1 in /usr/local/lib/python3.10/dist-packages (from google-auth<3,>=1.6.3->tensorboard<2.13,>=2.12->tensorflow<2.13,>=2.12.0->tensorflow_text) (0.3.0)\n",
            "Requirement already satisfied: rsa<5,>=3.1.4 in /usr/local/lib/python3.10/dist-packages (from google-auth<3,>=1.6.3->tensorboard<2.13,>=2.12->tensorflow<2.13,>=2.12.0->tensorflow_text) (4.9)\n",
            "Requirement already satisfied: requests-oauthlib>=0.7.0 in /usr/local/lib/python3.10/dist-packages (from google-auth-oauthlib<1.1,>=0.5->tensorboard<2.13,>=2.12->tensorflow<2.13,>=2.12.0->tensorflow_text) (1.3.1)\n",
            "Requirement already satisfied: urllib3<1.27,>=1.21.1 in /usr/local/lib/python3.10/dist-packages (from requests<3,>=2.21.0->tensorboard<2.13,>=2.12->tensorflow<2.13,>=2.12.0->tensorflow_text) (1.26.15)\n",
            "Requirement already satisfied: certifi>=2017.4.17 in /usr/local/lib/python3.10/dist-packages (from requests<3,>=2.21.0->tensorboard<2.13,>=2.12->tensorflow<2.13,>=2.12.0->tensorflow_text) (2022.12.7)\n",
            "Requirement already satisfied: charset-normalizer~=2.0.0 in /usr/local/lib/python3.10/dist-packages (from requests<3,>=2.21.0->tensorboard<2.13,>=2.12->tensorflow<2.13,>=2.12.0->tensorflow_text) (2.0.12)\n",
            "Requirement already satisfied: idna<4,>=2.5 in /usr/local/lib/python3.10/dist-packages (from requests<3,>=2.21.0->tensorboard<2.13,>=2.12->tensorflow<2.13,>=2.12.0->tensorflow_text) (3.4)\n",
            "Requirement already satisfied: MarkupSafe>=2.1.1 in /usr/local/lib/python3.10/dist-packages (from werkzeug>=1.0.1->tensorboard<2.13,>=2.12->tensorflow<2.13,>=2.12.0->tensorflow_text) (2.1.2)\n",
            "Requirement already satisfied: pyasn1<0.6.0,>=0.4.6 in /usr/local/lib/python3.10/dist-packages (from pyasn1-modules>=0.2.1->google-auth<3,>=1.6.3->tensorboard<2.13,>=2.12->tensorflow<2.13,>=2.12.0->tensorflow_text) (0.5.0)\n",
            "Requirement already satisfied: oauthlib>=3.0.0 in /usr/local/lib/python3.10/dist-packages (from requests-oauthlib>=0.7.0->google-auth-oauthlib<1.1,>=0.5->tensorboard<2.13,>=2.12->tensorflow<2.13,>=2.12.0->tensorflow_text) (3.2.2)\n"
          ]
        }
      ],
      "source": [
        "from sklearn.metrics import classification_report\n",
        "\n",
        "!pip install tensorflow\n",
        "!pip install tf-models-official\n",
        "!pip install tensorflow_text"
      ]
    },
    {
      "cell_type": "code",
      "execution_count": null,
      "metadata": {
        "id": "3f8bMqrBpyGr"
      },
      "outputs": [],
      "source": [
        "# Imports\n",
        "import tensorflow as tf\n",
        "import tensorflow_hub as hub\n",
        "\n",
        "import tensorflow_text as text\n",
        "from official.nlp import optimization  # to create AdamW optimizer\n",
        "import pandas as pd\n",
        "\n",
        "import os\n",
        "import numpy as np\n",
        "import itertools\n"
      ]
    },
    {
      "cell_type": "markdown",
      "metadata": {
        "id": "kU-w3k_kp5Y4"
      },
      "source": [
        "##1. Caricare il dataset"
      ]
    },
    {
      "cell_type": "markdown",
      "metadata": {
        "id": "TRzMbqBFsfdO"
      },
      "source": [
        "Per questa esercitazione useremo un dataset composto da 50,000 recensioni di film prese dal sito IMDB. L'obiettivo dell'esercitazione è capire quali recensioni esprimono un giudizio favorevole nei confronti del film e quali invece sono recensioni negative, si parla quindi di Sentiment Analysis.\n",
        "Il dataset proviene da [Kaggle](https://www.kaggle.com/datasets/atulanandjha/imdb-50k-movie-reviews-test-your-bert). Il dataset è diviso in train e test sets, entrambi contenenti 25,000 recensioni. Ogni partizione ha una distribuzione bilanciata tra le classi, 12,500 recensioni positive e 12,500 recensioni negative.\n",
        "\n",
        "Per poter lavorare è necessario scaricare e decomprimere il dataset, questo possiamo farlo con il comando seguente. \n",
        "\n",
        "I dati verranno salvati all'interno della cartella *data/* tra i files della sessione. \n",
        "In questa cartella troverete due files csv con lo stesso formato: due colonne, separate da virgola, la prima contiene il testo delle recensioni la seconda il sentiment legato alla recensione, *pos* per recensioni che esprimono un giudizio positivo nei confronti del film, *neg* viceversa.\n",
        "La seguente tabella mostra un estratto del train set.\n",
        "\n",
        "|                                                   Text                                                  | Sentiment |\n",
        "|:-------------------------------------------------------------------------------------------------------:|:---------:|\n",
        "| My daughter liked it but I was aghast, that a character in this movie smokes. As if it isn't awful e... |    neg    |\n",
        "| I... No words. No words can describe this. I will try for the sake of those few brave people who sti... |    neg    |\n",
        "| this film is basically a poor take on the old urban legend of the babysitter who gets crank calls te... |    neg    |\n",
        "| Cocky medical students play chicken with process that simulates death, in attempt to get a (hopefull... |    pos    |\n",
        "| This movie is excellent in how it portrays the reality of sexual abuse. The daughters perfectly expr... |    pos    |\n",
        "| So after years and years I finally track this film down! I was dying to see how it lived up to my me... |    pos    |\n"
      ]
    },
    {
      "cell_type": "code",
      "execution_count": null,
      "metadata": {
        "colab": {
          "base_uri": "https://localhost:8080/"
        },
        "id": "9MtEQZ3Aq-qM",
        "outputId": "1fecf64f-e404-4239-cd41-02bdcb33926a"
      },
      "outputs": [
        {
          "output_type": "stream",
          "name": "stdout",
          "text": [
            "--2023-05-10 10:26:24--  https://www.di.unito.it/~colla/resources/data.zip\n",
            "Resolving www.di.unito.it (www.di.unito.it)... 130.192.156.1, 2001:470:1f14:11a1::2\n",
            "Connecting to www.di.unito.it (www.di.unito.it)|130.192.156.1|:443... connected.\n",
            "HTTP request sent, awaiting response... 200 OK\n",
            "Length: 26505687 (25M) [application/zip]\n",
            "Saving to: ‘data.zip.1’\n",
            "\n",
            "data.zip.1          100%[===================>]  25.28M  7.66MB/s    in 3.5s    \n",
            "\n",
            "2023-05-10 10:26:28 (7.19 MB/s) - ‘data.zip.1’ saved [26505687/26505687]\n",
            "\n",
            "replace data/test.csv? [y]es, [n]o, [A]ll, [N]one, [r]ename: y\n",
            "replace data/train.csv? [y]es, [n]o, [A]ll, [N]one, [r]ename: y\n"
          ]
        }
      ],
      "source": [
        "!wget https://www.di.unito.it/~colla/resources/data.zip\n",
        "!unzip -q data.zip"
      ]
    },
    {
      "cell_type": "markdown",
      "metadata": {
        "id": "abQGRbCI5JPW"
      },
      "source": [
        "Il passo successivo è caricare il dataset, dobbiamo processare i files all'interno della cartella data al fine di caricare in memoria le recensioni con le relative etichette.\n",
        "\n",
        "\n",
        "funzione che caria il dataset. Data la cartella contenente i files di train e test, la funzione deve caricare i dati e partizionarli in quattro liste da restutire:\n",
        "\n",
        "\n",
        "*   train_sentences: una lista contenente tutti i testi delle recensioni del training set;\n",
        "*   train_labels: una lista contenete tutte le etichette associate alle recensioni del train set **NB. la lunghezza della lista deve coincidere con la lunghezza della lista 'train_sentences'**;\n",
        "*   test_sentences: una lista contenete tutti i testi delle recensioni del test set;\n",
        "*   , test_labels: una lista contenete tutte le etichette associate alle recensioni del test set **NB. la lunghezza della lista deve coincidere con la lunghezza della lista 'test_sentences'**.\n",
        "\n"
      ]
    },
    {
      "cell_type": "code",
      "execution_count": null,
      "metadata": {
        "id": "mFsuyzRnp1D-"
      },
      "outputs": [],
      "source": [
        "def load_imdb_data():\n",
        "  data_path = \"./data/\"\n",
        "\n",
        "  # Load train set\n",
        "  train_df = pd.read_csv(data_path + \"train.csv\", header=0)\n",
        "  train_sentences = train_df['text'].tolist()\n",
        "  train_labels = train_df['sentiment'].tolist()\n",
        "  train_labels = [0 if x == \"neg\" else 1 for x in train_labels]\n",
        "\n",
        "  # Load test set\n",
        "  test_df = pd.read_csv(data_path + \"test.csv\", header=0)\n",
        "  test_sentences = test_df['text'].tolist()\n",
        "  test_labels = test_df['sentiment'].tolist()\n",
        "  test_labels = [0 if x == \"neg\" else 1 for x in test_labels]\n",
        "\n",
        "  return train_sentences, train_labels, test_sentences, test_labels\n"
      ]
    },
    {
      "cell_type": "markdown",
      "metadata": {
        "id": "xHJBX5wD6fw5"
      },
      "source": [
        "Scritta la funzione per processare i files del dataset, possiamo utlizzarla per caricare i nostri train/test sets. Dato che 50,000 recensioni sono molte, potrebbe essere necessario ridurre il numero di esempi caricati per provare il codice o velocizzare il processo.\n",
        "In questo caso, possiamo usare la variabile *num_examples* per caricare solamente un sottoinsieme dei dati di train/test."
      ]
    },
    {
      "cell_type": "code",
      "execution_count": null,
      "metadata": {
        "colab": {
          "base_uri": "https://localhost:8080/"
        },
        "id": "4qC-iu7ErGkZ",
        "outputId": "9f08e478-7929-480b-c435-2c262b6a2ed7"
      },
      "outputs": [
        {
          "output_type": "stream",
          "name": "stdout",
          "text": [
            "Train Sentences:1000\n",
            "Test Sentences:1000\n"
          ]
        }
      ],
      "source": [
        "train_sentences, train_labels, test_sentences, test_labels = load_imdb_data()\n",
        "# Use 'num_examples' to load a subset of both train/test datasets\n",
        "num_examples = 1000\n",
        "train_sentences = train_sentences[:num_examples]\n",
        "train_labels = train_labels[:num_examples]\n",
        "test_sentences = test_sentences[:num_examples]\n",
        "test_labels = test_labels[:num_examples]\n",
        "\n",
        "print(f'Train Sentences:{ len(train_sentences)}')\n",
        "print(f'Test Sentences:{ len(test_sentences)}')"
      ]
    },
    {
      "cell_type": "markdown",
      "metadata": {
        "id": "ypmE2M8PJFFW"
      },
      "source": [
        "##2. Costruire il classificatore basato su Glove"
      ]
    },
    {
      "cell_type": "markdown",
      "metadata": {
        "id": "DInCDlIdJuDP"
      },
      "source": [
        "Questo comando permette di scaricare e decomprimere i vettori di [GloVe](https://nlp.stanford.edu/projects/glove/). \n",
        "\n",
        "I vettori di glove vengono distribuiti in X diverse versioni: glove.6B.50d, glove.6B.100d, glove.6B.200d e glove.6B.300d. \n",
        "La differenza fra tutte queste versioni è il numero di dimensioni dei vettori, che sono rispettivamente 50,100,200 e 300 dimensioni.\n",
        "\n",
        "Il numero di dimensioni è legato alla qualità dell'informazione che vogliamo rappresentare unitamente alla velocità di utilizzo: ad un minor numero di dimensioni corrisponde una minor qualità rappresentazionale ma una maggior velocità di utilizzo, viceversa per vettori con un maggior numero di dimensioni.\n",
        "\n",
        "Indipendentemente dal numero di dimensioni, i files hanno lo stesso formato: un vettore per ogni riga; ogni riga ha campi separati da uno spazio, il primo campo corrisponde alla parola mentre i seguenti sono tutti i valori del vettore.\n",
        "Di seguito è riportato un esempio:\n",
        "\n",
        "\n",
        "```\n",
        "home -0.092998  0.16297   0.73724  -0.37971   ...\n",
        "pet   0.51926   0.10875   0.71831   0.019399  ...\n",
        "```\n",
        "\n"
      ]
    },
    {
      "cell_type": "code",
      "execution_count": null,
      "metadata": {
        "colab": {
          "base_uri": "https://localhost:8080/"
        },
        "id": "MZkKnOKaJCo8",
        "outputId": "77dd5dca-28c7-4f82-cc7c-de51bae43c9e"
      },
      "outputs": [
        {
          "output_type": "stream",
          "name": "stdout",
          "text": [
            "--2023-05-10 10:37:51--  http://nlp.stanford.edu/data/glove.6B.zip\n",
            "Resolving nlp.stanford.edu (nlp.stanford.edu)... 171.64.67.140\n",
            "Connecting to nlp.stanford.edu (nlp.stanford.edu)|171.64.67.140|:80... connected.\n",
            "HTTP request sent, awaiting response... 302 Found\n",
            "Location: https://nlp.stanford.edu/data/glove.6B.zip [following]\n",
            "--2023-05-10 10:37:51--  https://nlp.stanford.edu/data/glove.6B.zip\n",
            "Connecting to nlp.stanford.edu (nlp.stanford.edu)|171.64.67.140|:443... connected.\n",
            "HTTP request sent, awaiting response... 301 Moved Permanently\n",
            "Location: https://downloads.cs.stanford.edu/nlp/data/glove.6B.zip [following]\n",
            "--2023-05-10 10:37:51--  https://downloads.cs.stanford.edu/nlp/data/glove.6B.zip\n",
            "Resolving downloads.cs.stanford.edu (downloads.cs.stanford.edu)... 171.64.64.22\n",
            "Connecting to downloads.cs.stanford.edu (downloads.cs.stanford.edu)|171.64.64.22|:443... connected.\n",
            "HTTP request sent, awaiting response... 200 OK\n",
            "Length: 862182613 (822M) [application/zip]\n",
            "Saving to: ‘glove.6B.zip’\n",
            "\n",
            "glove.6B.zip        100%[===================>] 822.24M  4.87MB/s    in 2m 39s  \n",
            "\n",
            "2023-05-10 10:40:31 (5.16 MB/s) - ‘glove.6B.zip’ saved [862182613/862182613]\n",
            "\n"
          ]
        }
      ],
      "source": [
        "!wget http://nlp.stanford.edu/data/glove.6B.zip \n",
        "!unzip -q glove.6B.zip"
      ]
    },
    {
      "cell_type": "markdown",
      "metadata": {
        "id": "NBwBD7949e9P"
      },
      "source": [
        "Una volta completato il download ci occorre una funzione per caricare i vettori in memoria. Per l'esercitazione possiamo utilizzare la versione in cui i vettori hanno 100 dimensioni.\n",
        "\n",
        "\n",
        "Funzione che carica i vettori di GloVe. Dato il path ad una delle versioni di GloVe, la funzione deve:\n",
        "\n",
        "\n",
        "*   scorrere tutti i vettori presenti all'interno del file e salvarli all'interno del dizionario *glove_vectors*, in cui le chiavi sono le parole e i valori sono i vettori (attenzione, i vettori devono essere liste di numeri);\n",
        "*   caricare tutte le parole per cui esiste un vettore di GloVe nella lista *glove_vocabulary*.\n",
        "\n",
        "la funzione deve restituire il dizionario *glove_vectors* e la lista *glove_vocabulary*.\n",
        "\n",
        "\n"
      ]
    },
    {
      "cell_type": "code",
      "execution_count": null,
      "metadata": {
        "id": "c-njRixN4IL8"
      },
      "outputs": [],
      "source": [
        "# Set the embedding dimensions\n",
        "embedding_dimensions = 100"
      ]
    },
    {
      "cell_type": "code",
      "execution_count": null,
      "metadata": {
        "id": "9mRCRqnQ8oCE"
      },
      "outputs": [],
      "source": [
        "def load_glove():\n",
        "  path_to_glove_file = \"./glove.6B.\" + str(embedding_dimensions) + \"d.txt\"\n",
        "\n",
        "  glove_vectors = {}\n",
        "  glove_vocabulary = []\n",
        "  with open(path_to_glove_file) as f:\n",
        "      for line in f:\n",
        "        word, coefs = line.split(maxsplit=1)\n",
        "        coefs = np.fromstring(coefs, \"f\", sep=\" \")\n",
        "        glove_vectors[word] = coefs\n",
        "        glove_vocabulary.append(word)\n",
        "\n",
        "  return glove_vectors, glove_vocabulary"
      ]
    },
    {
      "cell_type": "markdown",
      "metadata": {
        "id": "14h11O9TVRC3"
      },
      "source": [
        "Per poter addestrare il nostro modello dobbiamo rendere processabili i testi e i giudizi delle nostre recensioni. Dato che le reti non sono in grado di elaborare del testo in formato stringa, ma direttamente nella forma \"vettoriale\", ci occorre convertire ogni parola in un numero che la identifichi univocamente. Ci serve quindi fare quella che viene chiamata tokenizzazione. \n",
        "Ad esempio, data la frase \"*the cat sat on the mat*\" la tokenizzazione produrrebbe la rappresentazione \"*2, 3697, 1686, 15, 2, 5943*\".\n",
        "Data questa tokenizzazione la rete è adesso in grado di associare ad ogni parola la forma a vettoriale contenuta nell'embedding layer, ed utilizzarla durante l'elaborazione."
      ]
    },
    {
      "cell_type": "code",
      "execution_count": null,
      "metadata": {
        "id": "dyWNHQbrVRdL"
      },
      "outputs": [],
      "source": [
        "# Load glove vectors together with glove vocabulary\n",
        "glove_vectors, glove_vocabulary = load_glove()\n",
        "\n",
        "# Fit the vectorizer to GloVe vocabulary\n",
        "vectorizer = tf.keras.layers.TextVectorization(output_sequence_length=128)\n",
        "vectorizer.adapt(glove_vocabulary)\n",
        "\n",
        "# Get vectorizer's vocabulary\n",
        "voc = vectorizer.get_vocabulary()\n",
        "\n",
        "word_index = dict(zip(voc, range(len(voc))))\n"
      ]
    },
    {
      "cell_type": "code",
      "execution_count": null,
      "metadata": {
        "colab": {
          "base_uri": "https://localhost:8080/"
        },
        "id": "66SPIVT_YyiF",
        "outputId": "e15f1ac7-7b8e-484d-c5a4-c61cd1356fcf"
      },
      "outputs": [
        {
          "output_type": "stream",
          "name": "stdout",
          "text": [
            "tf.Tensor(\n",
            "[  7154 258322 251451   2927      1   8103   7607 298524      0      0\n",
            "      0      0      0      0      0      0      0      0      0      0\n",
            "      0      0      0      0      0      0      0      0      0      0\n",
            "      0      0      0      0      0      0      0      0      0      0\n",
            "      0      0      0      0      0      0      0      0      0      0\n",
            "      0      0      0      0      0      0      0      0      0      0\n",
            "      0      0      0      0      0      0      0      0      0      0\n",
            "      0      0      0      0      0      0      0      0      0      0\n",
            "      0      0      0      0      0      0      0      0      0      0\n",
            "      0      0      0      0      0      0      0      0      0      0\n",
            "      0      0      0      0      0      0      0      0      0      0\n",
            "      0      0      0      0      0      0      0      0      0      0\n",
            "      0      0      0      0      0      0      0      0], shape=(128,), dtype=int64)\n",
            "1\n"
          ]
        }
      ],
      "source": [
        "print(vectorizer(\"My favourite framework is Tensorflow. I love coding\"))\n",
        "print(word_index[\"[UNK]\"])"
      ]
    },
    {
      "cell_type": "markdown",
      "metadata": {
        "id": "l8NEsJRD7yc5"
      },
      "source": [
        "La funzione seguente permette di costruire il modello basato sui vettori di GloVe.\n",
        "Il processo è il seguente:\n",
        "\n",
        "\n",
        "1. carica i vettori ed il vocabolario di GloVe con la funzione appena scritta;\n",
        "2.   costruisce un tokenizer sul vocabolario di GloVe, cioè assegna un identificatore numerico ad ogni parola del vocabolario di GloVe;\n",
        "3.   costruisce la matrice di embedding, da identifcatore numerico a vettore;\n",
        "4.   costruisce il modello con un livello di embedding, una BLSTM e un livello finale che ci serve per la predizione.\n",
        "\n"
      ]
    },
    {
      "cell_type": "code",
      "execution_count": null,
      "metadata": {
        "id": "szcGcwwlJ6GM"
      },
      "outputs": [],
      "source": [
        "def build_glove_model():\n",
        "  \n",
        "  # Load glove vectors together with glove vocabulary\n",
        "  glove_vectors, glove_vocabulary = load_glove()\n",
        "\n",
        "  # Fit the vectorizer to GloVe vocabulary\n",
        "  vectorizer = tf.keras.layers.TextVectorization(output_sequence_length=128)\n",
        "  vectorizer.adapt(glove_vocabulary)\n",
        "  \n",
        "  # Get vectorizer's vocabulary\n",
        "  voc = vectorizer.get_vocabulary()\n",
        "\n",
        "  word_index = dict(zip(voc, range(len(voc))))\n",
        "  num_tokens = len(voc) + 2\n",
        "\n",
        "  # Prepare embedding matrix\n",
        "  embedding_matrix = np.zeros((num_tokens, embedding_dimensions))\n",
        "  for word, i in word_index.items():\n",
        "    embedding_vector = glove_vectors.get(word)\n",
        "    if embedding_vector is not None:\n",
        "      # Words not found in embedding index will be all-zeros.\n",
        "      # This includes the representation for \"padding\" and \"OOV\"\n",
        "      embedding_matrix[i] = embedding_vector\n",
        "\n",
        "  # Build the model\n",
        "  # Build the embedding layer\n",
        "  embedding_layer = tf.keras.layers.Embedding(\n",
        "    num_tokens,\n",
        "    embedding_dimensions,\n",
        "    embeddings_initializer=tf.keras.initializers.Constant(embedding_matrix),\n",
        "    trainable=True,\n",
        "  )\n",
        "  # Set the input layer\n",
        "  int_sequences_input = tf.keras.Input(shape=(None,), dtype=\"int64\")\n",
        "  # Apply the embedding layer on the input layer\n",
        "  embedded_sequences = embedding_layer(int_sequences_input)\n",
        "  # Apply a dropout to avoid overfitting\n",
        "  x = tf.keras.layers.Dropout(0.1)(embedded_sequences)\n",
        "  # Set up the BLSTM layer\n",
        "  x = tf.keras.layers.Bidirectional(tf.keras.layers.LSTM(128))(x)\n",
        "  # Last layer for predictions\n",
        "  preds = tf.keras.layers.Dense(1, activation=None)(x)\n",
        "  model = tf.keras.Model(int_sequences_input, preds)\n",
        "  return model, vectorizer, word_index\n"
      ]
    },
    {
      "cell_type": "markdown",
      "metadata": {
        "id": "M2P2iap2AcP4"
      },
      "source": [
        "Il seguente codice carica il modello usando la funzione appena definita e ne mostra una rappresentazione grafica. "
      ]
    },
    {
      "cell_type": "code",
      "execution_count": null,
      "metadata": {
        "colab": {
          "base_uri": "https://localhost:8080/",
          "height": 813
        },
        "id": "zVGwliH5LktQ",
        "outputId": "10a2e20f-30a4-46b3-ff15-2df7c214f237"
      },
      "outputs": [
        {
          "output_type": "stream",
          "name": "stdout",
          "text": [
            "Model: \"model_6\"\n",
            "_________________________________________________________________\n",
            " Layer (type)                Output Shape              Param #   \n",
            "=================================================================\n",
            " input_1 (InputLayer)        [(None, None)]            0         \n",
            "                                                                 \n",
            " embedding (Embedding)       (None, None, 100)         37503900  \n",
            "                                                                 \n",
            " dropout_6 (Dropout)         (None, None, 100)         0         \n",
            "                                                                 \n",
            " bidirectional_3 (Bidirectio  (None, 256)              234496    \n",
            " nal)                                                            \n",
            "                                                                 \n",
            " dense (Dense)               (None, 1)                 257       \n",
            "                                                                 \n",
            "=================================================================\n",
            "Total params: 37,738,653\n",
            "Trainable params: 37,738,653\n",
            "Non-trainable params: 0\n",
            "_________________________________________________________________\n"
          ]
        },
        {
          "output_type": "execute_result",
          "data": {
            "image/png": "[encoded data removed]",
            "text/plain": [
              "<IPython.core.display.Image object>"
            ]
          },
          "metadata": {},
          "execution_count": 54
        }
      ],
      "source": [
        "# Load the model\n",
        "glove_model, glove_tokenizer, word_index = build_glove_model()\n",
        "# Print model summary\n",
        "glove_model.summary()\n",
        "# Plot a figure representing the model\n",
        "tf.keras.utils.plot_model(glove_model)"
      ]
    },
    {
      "cell_type": "markdown",
      "metadata": {
        "id": "KpMIcMcx3GX_"
      },
      "source": [
        "###2.1. Addestrare/Testare il modello basato su GloVe"
      ]
    },
    {
      "cell_type": "markdown",
      "metadata": {
        "id": "bY9hgxj7FQZf"
      },
      "source": [
        "Una volta costruito il modello possiamo passare alla fasi di addestramento (sul train set) e valutazione (sul test set). \n"
      ]
    },
    {
      "cell_type": "markdown",
      "metadata": {
        "id": "SXVUib-vVqDp"
      },
      "source": [
        "Funzione che faccia la tokenizzazione di tutte le recensioni contenute nella lista *sentences_list* ricevuta come parametro. La funzione deve restituire una lista contenente le recensioni tokenizzate nello stesso ordine in cui sono state ricevute."
      ]
    },
    {
      "cell_type": "code",
      "execution_count": null,
      "metadata": {
        "id": "BhMvjVcFC0Np"
      },
      "outputs": [],
      "source": [
        "def tokenize_data(sentences_list, tokenizer):\n",
        "  return [tokenizer(x) for x in sentences_list]"
      ]
    },
    {
      "cell_type": "markdown",
      "metadata": {
        "id": "qHJCnlYM7u-p"
      },
      "source": [
        "Una volta pre-processati i dati possiamo avviare il training del nostro modello. La funzione di seguito definisce i parametri principali dell'addestramento, cioè che tipo di Loss Function usare, il numero di epoche per cui addestrare il modello, il tipo di ottimizzatore da utilizzare e la metrica da considerare durante l'apprendimento.\n",
        "L'istruzione finale *model.fit* permette di avviare l'addestramento del modello appena creato sul *training_dataset*."
      ]
    },
    {
      "cell_type": "code",
      "execution_count": null,
      "metadata": {
        "id": "3-GKl2s7L_db"
      },
      "outputs": [],
      "source": [
        "def train_glove_model(model, tokenizer, train_sentences):\n",
        "  loss = tf.keras.losses.BinaryCrossentropy(from_logits=True)\n",
        "  metrics = tf.metrics.BinaryAccuracy()\n",
        "\n",
        "  # Create train dataset\n",
        "  train_dataset = tf.data.Dataset.from_tensor_slices((tf.convert_to_tensor(tokenize_data(train_sentences, tokenizer), dtype=tf.int64), tf.convert_to_tensor(train_labels, dtype=tf.int32)))\n",
        "  train_dataset = train_dataset.batch(128)\n",
        "  train_dataset = train_dataset.shuffle(len(train_labels), reshuffle_each_iteration=True)\n",
        "\n",
        "  # Setup training parameters\n",
        "  epochs = 5\n",
        "  steps_per_epoch = tf.data.experimental.cardinality(train_dataset).numpy()\n",
        "  num_train_steps = steps_per_epoch * epochs\n",
        "  num_warmup_steps = int(0.1*num_train_steps)\n",
        "\n",
        "  # Build Optimizer\n",
        "  init_lr = 3e-5\n",
        "  optimizer = optimization.create_optimizer(init_lr=init_lr,\n",
        "                                            num_train_steps=num_train_steps,\n",
        "                                            num_warmup_steps=num_warmup_steps,\n",
        "                                            optimizer_type='adamw')\n",
        "\n",
        "  # Create the model\n",
        "  model.compile(optimizer=optimizer,\n",
        "                          loss=loss,\n",
        "                          metrics=metrics)\n",
        "  history = model.fit(x=train_dataset, epochs=epochs)"
      ]
    },
    {
      "cell_type": "markdown",
      "metadata": {
        "id": "TF1v8v7W9MwW"
      },
      "source": [
        "Infine ci serve creare una funzione che permetta di valutare il modello allenato con la funzione precedente sul test set. \n",
        "La funzione seguente, dopo aver pre-processato (tokenizzato) il dataset di test, utilizza il modello ricevuto come parametro per predire le classi sulle recensioni del test set."
      ]
    },
    {
      "cell_type": "code",
      "execution_count": null,
      "metadata": {
        "id": "plIZ7qQvMrbz"
      },
      "outputs": [],
      "source": [
        "def test_glove_model(model, tokenizer, test_sentences):\n",
        "  # Evalautate\n",
        "  test_dataset = tf.data.Dataset.from_tensor_slices((tf.convert_to_tensor(tokenize_data(test_sentences, tokenizer), dtype=tf.int64), tf.convert_to_tensor(test_labels, dtype=tf.int32)))\n",
        "  test_dataset = test_dataset.batch(128)\n",
        "  loss, accuracy = model.evaluate(test_dataset)\n",
        "  print(f'Loss: {loss}')\n",
        "  print(f'Accuracy: {accuracy}')\n",
        "\n",
        "  predictions = model.predict(test_dataset)\n",
        "  predictions = [0 if x < 0.5 else 1 for x in predictions]\n",
        "  print(classification_report(test_labels, predictions))"
      ]
    },
    {
      "cell_type": "markdown",
      "metadata": {
        "id": "4w67XjCX98T-"
      },
      "source": [
        "Una volta definite le due funzioni precedenti possiamo utilizzarle per addestrare e valutare il modello che abbiamo costruito."
      ]
    },
    {
      "cell_type": "code",
      "execution_count": null,
      "metadata": {
        "colab": {
          "base_uri": "https://localhost:8080/"
        },
        "id": "J4pIjOoBMaCK",
        "outputId": "57425349-e46f-4fe6-cd61-a812599000ed"
      },
      "outputs": [
        {
          "output_type": "stream",
          "name": "stdout",
          "text": [
            "Epoch 1/5\n",
            "8/8 [==============================] - 4s 53ms/step - loss: 0.6965 - binary_accuracy: 0.5130\n",
            "Epoch 2/5\n",
            "8/8 [==============================] - 0s 44ms/step - loss: 0.6959 - binary_accuracy: 0.5130\n",
            "Epoch 3/5\n",
            "8/8 [==============================] - 0s 44ms/step - loss: 0.6938 - binary_accuracy: 0.5130\n",
            "Epoch 4/5\n",
            "8/8 [==============================] - 0s 44ms/step - loss: 0.6940 - binary_accuracy: 0.5130\n",
            "Epoch 5/5\n",
            "8/8 [==============================] - 0s 44ms/step - loss: 0.6939 - binary_accuracy: 0.5130\n",
            "8/8 [==============================] - 1s 15ms/step - loss: 0.6930 - binary_accuracy: 0.5150\n",
            "Loss: 0.6929799914360046\n",
            "Accuracy: 0.5149999856948853\n",
            "8/8 [==============================] - 1s 11ms/step\n",
            "              precision    recall  f1-score   support\n",
            "\n",
            "           0       0.52      1.00      0.68       515\n",
            "           1       0.00      0.00      0.00       485\n",
            "\n",
            "    accuracy                           0.52      1000\n",
            "   macro avg       0.26      0.50      0.34      1000\n",
            "weighted avg       0.27      0.52      0.35      1000\n",
            "\n"
          ]
        },
        {
          "output_type": "stream",
          "name": "stderr",
          "text": [
            "/usr/local/lib/python3.10/dist-packages/sklearn/metrics/_classification.py:1344: UndefinedMetricWarning: Precision and F-score are ill-defined and being set to 0.0 in labels with no predicted samples. Use `zero_division` parameter to control this behavior.\n",
            "  _warn_prf(average, modifier, msg_start, len(result))\n",
            "/usr/local/lib/python3.10/dist-packages/sklearn/metrics/_classification.py:1344: UndefinedMetricWarning: Precision and F-score are ill-defined and being set to 0.0 in labels with no predicted samples. Use `zero_division` parameter to control this behavior.\n",
            "  _warn_prf(average, modifier, msg_start, len(result))\n",
            "/usr/local/lib/python3.10/dist-packages/sklearn/metrics/_classification.py:1344: UndefinedMetricWarning: Precision and F-score are ill-defined and being set to 0.0 in labels with no predicted samples. Use `zero_division` parameter to control this behavior.\n",
            "  _warn_prf(average, modifier, msg_start, len(result))\n"
          ]
        }
      ],
      "source": [
        "train_glove_model(glove_model, glove_tokenizer, train_sentences)\n",
        "\n",
        "test_glove_model(glove_model, glove_tokenizer, test_sentences)"
      ]
    },
    {
      "cell_type": "markdown",
      "metadata": {
        "id": "DHp69ywVr658"
      },
      "source": [
        "##3. Costruire il classificatore basato su Transformers"
      ]
    },
    {
      "cell_type": "markdown",
      "metadata": {
        "id": "wJOeirCwBLo3"
      },
      "source": [
        "![attention_research_1.webp](data:image/webp;base64,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)"
      ]
    },
    {
      "cell_type": "markdown",
      "metadata": {
        "id": "pQgiLMW6B4VE"
      },
      "source": [
        "L'architettura a transformers è un'architettura neurale allenata su una grande quantità di testi, in grado di produrre embeddings, associati ai tokens costitutivi della frase in input, con la particolarità di essere *contestuali*. Contestuali significa diversi a seconda della frase, e quindi agli altri token della frase, in cui quel dato token occorre.\n",
        "È evidente quindi come l'informazione contenuta in questi embeddings sia più fine e ricca rispetto a quella che può essere contenuta in mebeddings statici, capace di cogliere sfaccetture diverse di una stessa parola in rappresentazioni differenti, rispetto alla singola rapprsentazione \"media\" fornita dagli embeddings statici."
      ]
    },
    {
      "cell_type": "markdown",
      "metadata": {
        "id": "uf7j6SgJEtoC"
      },
      "source": [
        "Diversamente da Glove, non è necessario in questo caso caricare un set di embeddings, ma un language model pre-allenato. Anche in questo caso è necessaria una fase di tokenizzazione che converte il testo in token indicizzati. Ci sono però alcune differenze rispoetto la tokenizzatore utilizzato in glove.\n",
        "\n",
        "\n",
        "1.   La frase viene in questo caso elaborata e inserita tra due speciali tag che indicano l'inizio ([CLS]) e la fine ([SEP]) della frase."
      ]
    },
    {
      "cell_type": "code",
      "execution_count": null,
      "metadata": {
        "colab": {
          "base_uri": "https://localhost:8080/"
        },
        "id": "0NbNNlGAE496",
        "outputId": "445cea45-a327-4dad-e7ef-4db467a9c336"
      },
      "outputs": [
        {
          "output_type": "stream",
          "name": "stdout",
          "text": [
            "Looking in indexes: https://pypi.org/simple, https://us-python.pkg.dev/colab-wheels/public/simple/\n",
            "Requirement already satisfied: transformers in /usr/local/lib/python3.10/dist-packages (4.28.1)\n",
            "Requirement already satisfied: filelock in /usr/local/lib/python3.10/dist-packages (from transformers) (3.12.0)\n",
            "Requirement already satisfied: huggingface-hub<1.0,>=0.11.0 in /usr/local/lib/python3.10/dist-packages (from transformers) (0.14.1)\n",
            "Requirement already satisfied: numpy>=1.17 in /usr/local/lib/python3.10/dist-packages (from transformers) (1.23.5)\n",
            "Requirement already satisfied: packaging>=20.0 in /usr/local/lib/python3.10/dist-packages (from transformers) (23.1)\n",
            "Requirement already satisfied: pyyaml>=5.1 in /usr/local/lib/python3.10/dist-packages (from transformers) (5.4.1)\n",
            "Requirement already satisfied: regex!=2019.12.17 in /usr/local/lib/python3.10/dist-packages (from transformers) (2022.10.31)\n",
            "Requirement already satisfied: requests in /usr/local/lib/python3.10/dist-packages (from transformers) (2.27.1)\n",
            "Requirement already satisfied: tokenizers!=0.11.3,<0.14,>=0.11.1 in /usr/local/lib/python3.10/dist-packages (from transformers) (0.13.3)\n",
            "Requirement already satisfied: tqdm>=4.27 in /usr/local/lib/python3.10/dist-packages (from transformers) (4.65.0)\n",
            "Requirement already satisfied: fsspec in /usr/local/lib/python3.10/dist-packages (from huggingface-hub<1.0,>=0.11.0->transformers) (2023.4.0)\n",
            "Requirement already satisfied: typing-extensions>=3.7.4.3 in /usr/local/lib/python3.10/dist-packages (from huggingface-hub<1.0,>=0.11.0->transformers) (4.5.0)\n",
            "Requirement already satisfied: urllib3<1.27,>=1.21.1 in /usr/local/lib/python3.10/dist-packages (from requests->transformers) (1.26.15)\n",
            "Requirement already satisfied: certifi>=2017.4.17 in /usr/local/lib/python3.10/dist-packages (from requests->transformers) (2022.12.7)\n",
            "Requirement already satisfied: charset-normalizer~=2.0.0 in /usr/local/lib/python3.10/dist-packages (from requests->transformers) (2.0.12)\n",
            "Requirement already satisfied: idna<4,>=2.5 in /usr/local/lib/python3.10/dist-packages (from requests->transformers) (3.4)\n"
          ]
        }
      ],
      "source": [
        "!pip install transformers"
      ]
    },
    {
      "cell_type": "code",
      "execution_count": null,
      "metadata": {
        "colab": {
          "base_uri": "https://localhost:8080/",
          "height": 148,
          "referenced_widgets": [
            "8e1549e837a84aba83133afbf3ee8b49",
            "fe750cff33904c5a83a37ed2c0837e63",
            "d9bb6f82f1e041aebc931e7a79cc537f",
            "daec62ba742a46a5ab468e51acda73a8",
            "33b7f854768345f4be4b7ad45ca17e22",
            "401e15b018a54c7fb11358864e971906",
            "08f7e50fa43f4873b08f770a62764235",
            "ec88663872054a11a50c817aac74607e",
            "4fcbcee98dd0405db145d60585863a17",
            "9ccae878bf144b3f9f3110b6599007f2",
            "62c755c0998344b8ba43c91eb1119470",
            "6cb915c1d2a74f55ba1cc557c4708072",
            "f300de7e17394cd2921923ce80e192b0",
            "27af75739aae48d4bc32cf2877c84396",
            "4a7776a2733e460baf010ede8a31ef6f",
            "1dc56ad187cf4af38550e3c0f479be9b",
            "e4420cd129844942921754e0a30fba3f",
            "f75c8458ae214464914f39b8f2e00020",
            "40d23f27d4f84918b1b9dc5d5bc34142",
            "21f16690de5b4606910c9e31b2798c0d",
            "24d07423dc674e2f9aa845030738ffdf",
            "5d3071ce49c14359b8f322dd0a8a9e18",
            "6476ca83f7194c42af676764262a630f",
            "c3a194b1586f4abfaead6c3830bd2389",
            "f3fecd7b405b476382c61fd42cf5eba4",
            "ea08e0e785054d7185c9b16da8cb8a07",
            "2a04281ab50c447285abc3630c646c3e",
            "ccd7d82c8b7944399f2508c9a400f987",
            "44af92e7ef5f4c70a26cae8d76e9e531",
            "93ba39e4d71d462bbcba4c40e34323fc",
            "87577726503c44a29edbe5c0ccc623ba",
            "cbe9505d4a2b49b4a4981a0b04112735",
            "ebdcc16183b04693a376cdf440d56e66"
          ]
        },
        "id": "HGJ752MWGuuX",
        "outputId": "076cc660-32a1-4263-cabe-c20e14a6899c"
      },
      "outputs": [
        {
          "output_type": "display_data",
          "data": {
            "text/plain": [
              "Downloading (…)solve/main/vocab.txt:   0%|          | 0.00/996k [00:00<?, ?B/s]"
            ],
            "application/vnd.jupyter.widget-view+json": {
              "version_major": 2,
              "version_minor": 0,
              "model_id": "8e1549e837a84aba83133afbf3ee8b49"
            }
          },
          "metadata": {}
        },
        {
          "output_type": "display_data",
          "data": {
            "text/plain": [
              "Downloading (…)okenizer_config.json:   0%|          | 0.00/29.0 [00:00<?, ?B/s]"
            ],
            "application/vnd.jupyter.widget-view+json": {
              "version_major": 2,
              "version_minor": 0,
              "model_id": "6cb915c1d2a74f55ba1cc557c4708072"
            }
          },
          "metadata": {}
        },
        {
          "output_type": "display_data",
          "data": {
            "text/plain": [
              "Downloading (…)lve/main/config.json:   0%|          | 0.00/625 [00:00<?, ?B/s]"
            ],
            "application/vnd.jupyter.widget-view+json": {
              "version_major": 2,
              "version_minor": 0,
              "model_id": "6476ca83f7194c42af676764262a630f"
            }
          },
          "metadata": {}
        },
        {
          "output_type": "stream",
          "name": "stdout",
          "text": [
            "tf.Tensor([[  101 10105 41163 10124 10135 10105 17255   102]], shape=(1, 8), dtype=int32)\n",
            "['[CLS]', 'the', 'cat', 'is', 'on', 'the', 'mat', '[SEP]']\n"
          ]
        }
      ],
      "source": [
        "from transformers import BertTokenizer\n",
        "tokenizer = BertTokenizer.from_pretrained('bert-base-multilingual-cased')\n",
        "encoded_input = tokenizer([\"the cat is on the mat\"], return_tensors='tf')\n",
        "print(encoded_input[\"input_ids\"])\n",
        "print(tokenizer.convert_ids_to_tokens(encoded_input[\"input_ids\"][0]))\n",
        "#print(tokenizer.decode(encoded_input[\"input_ids\"][0]))"
      ]
    },
    {
      "cell_type": "markdown",
      "metadata": {
        "id": "BpHuSjB1NQtu"
      },
      "source": [
        "  2. A differenza di glove, il tokenizzatore dei transformers non si troverà mai di fronte ad una parola out of vocabulary. Infatti il vocabolario, in questo caso, è costruito usando sotto-token, ovvero sottocomponenti delle parole, che possono essere composti tra di loro per formare una parola non direttamente presnte in vocabolario. \n",
        "  Come possiamo vedere, nel primo esempio proposto, ogni parola viene indicizzata correttamente e nessuna parola viene scomposta. Nel secondo invece (nel blocco di codice successivo), la parola Tensorflow non è contenuta direttamente nel vocabolario, ma al posto di essere indicizzata come OOV viene scomposta e indicizzata attraverso i sottotoken  che la scompongono.\n",
        "  "
      ]
    },
    {
      "cell_type": "code",
      "execution_count": null,
      "metadata": {
        "colab": {
          "base_uri": "https://localhost:8080/"
        },
        "id": "iZEuCZz4NL3G",
        "outputId": "bdd6f0e6-4ec2-44e5-cadc-389447a634f8"
      },
      "outputs": [
        {
          "output_type": "stream",
          "name": "stdout",
          "text": [
            "tf.Tensor(\n",
            "[[   101  11590  80494  54387  10124  16411  28919 105739    119    146\n",
            "   16138  86604  10376    102]], shape=(1, 14), dtype=int32)\n",
            "['[CLS]', 'My', 'favourite', 'framework', 'is', 'Ten', '##sor', '##flow', '.', 'I', 'love', 'codi', '##ng', '[SEP]']\n"
          ]
        }
      ],
      "source": [
        "encoded_input = tokenizer([\"My favourite framework is Tensorflow. I love coding\"], return_tensors='tf')\n",
        "print(encoded_input[\"input_ids\"])\n",
        "print(tokenizer.convert_ids_to_tokens(encoded_input[\"input_ids\"][0]))"
      ]
    },
    {
      "cell_type": "code",
      "execution_count": null,
      "metadata": {
        "colab": {
          "base_uri": "https://localhost:8080/"
        },
        "id": "OBXylTdyE-wL",
        "outputId": "ba56c186-1f9d-434d-c413-30d471527d82"
      },
      "outputs": [
        {
          "output_type": "stream",
          "name": "stdout",
          "text": [
            "tf.Tensor(\n",
            "[[   101  11590  15243  11850  10162  10271  10473    146  10134  16942\n",
            "   20578  10123    117  10189    169  15092  10106  10531  18379 100332\n",
            "   10107    119    102]], shape=(1, 23), dtype=int32)\n",
            "['[CLS]', 'My', 'daughter', 'like', '##d', 'it', 'but', 'I', 'was', 'ag', '##has', '##t', ',', 'that', 'a', 'character', 'in', 'this', 'movie', 'smoke', '##s', '.', '[SEP]']\n"
          ]
        }
      ],
      "source": [
        "encoded_input = tokenizer([\"My daughter liked it but I was aghast, that a character in this movie smokes.\"], return_tensors='tf')\n",
        "print(encoded_input[\"input_ids\"])\n",
        "print(tokenizer.convert_ids_to_tokens(encoded_input[\"input_ids\"][0]))"
      ]
    },
    {
      "cell_type": "code",
      "execution_count": null,
      "metadata": {
        "colab": {
          "base_uri": "https://localhost:8080/"
        },
        "id": "26eQLVDebk3y",
        "outputId": "2f9b5e87-0dce-4e88-85d2-16ed515eb37c"
      },
      "outputs": [
        {
          "output_type": "execute_result",
          "data": {
            "text/plain": [
              "{'input_ids': <tf.Tensor: shape=(1, 23), dtype=int32, numpy=\n",
              "array([[   101,  11590,  15243,  11850,  10162,  10271,  10473,    146,\n",
              "         10134,  16942,  20578,  10123,    117,  10189,    169,  15092,\n",
              "         10106,  10531,  18379, 100332,  10107,    119,    102]],\n",
              "      dtype=int32)>, 'token_type_ids': <tf.Tensor: shape=(1, 23), dtype=int32, numpy=\n",
              "array([[0, 0, 0, 0, 0, 0, 0, 0, 0, 0, 0, 0, 0, 0, 0, 0, 0, 0, 0, 0, 0, 0,\n",
              "        0]], dtype=int32)>, 'attention_mask': <tf.Tensor: shape=(1, 23), dtype=int32, numpy=\n",
              "array([[1, 1, 1, 1, 1, 1, 1, 1, 1, 1, 1, 1, 1, 1, 1, 1, 1, 1, 1, 1, 1, 1,\n",
              "        1]], dtype=int32)>}"
            ]
          },
          "metadata": {},
          "execution_count": 63
        }
      ],
      "source": [
        "encoded_input"
      ]
    },
    {
      "cell_type": "markdown",
      "metadata": {
        "id": "y8An251nb9yk"
      },
      "source": [
        "Anche la conversione in embeddings cambia rispetto al modello costruito con Glove. Bert infatti si presenta come modello compatto che prende in input l'output codificato del tokenizzatore e produce due tipi di output:  \n",
        "\n",
        "1.   il primo è una rappresentazione in forma embedding di ogni parola all'interno della frase;\n",
        "2.   il secondo è un unico embedding, quello del tag iniziale, il [CLS], che dopo vari studi è emerso possa essere considerato un cosiddetto \"sentence embedding\", che raccoglie dentro di sè una rappresentazione condensata della frase di cui funge da start token.\n",
        "\n",
        "Per comodità, il modello bert restituisce questi output separatamente.\n",
        "\n"
      ]
    },
    {
      "cell_type": "code",
      "execution_count": null,
      "metadata": {
        "colab": {
          "base_uri": "https://localhost:8080/"
        },
        "id": "P3cRO7uWb9Iy",
        "outputId": "5c63252b-6fcf-4a39-baaf-3fc741460fbe"
      },
      "outputs": [
        {
          "output_type": "stream",
          "name": "stdout",
          "text": [
            "Loaded BERT: https://tfhub.dev/tensorflow/bert_multi_cased_L-12_H-768_A-12/3\n",
            "Pooled Outputs Shape:(1, 768)\n",
            "Pooled Outputs Values:[ 0.32325873 -0.20068018  0.38755903 -0.2167016  -0.04561144  0.45701122\n",
            "  0.31035775  0.42998514 -0.5296009   0.37414888 -0.06483027 -0.26475585]\n",
            "Sequence Outputs Shape:(1, 128, 768)\n",
            "Sequence Outputs Values:[[ 0.42766553 -0.14020334 -0.17767414 ...  0.604911   -0.17562835\n",
            "  -0.09929426]\n",
            " [ 0.58179927 -0.5178926   0.12819509 ...  0.21629047 -0.46066755\n",
            "  -0.32879853]\n",
            " [ 0.3448778  -0.62018025 -0.21239841 ...  0.15637065 -0.01157895\n",
            "  -0.29385826]\n",
            " ...\n",
            " [ 0.3172306  -0.39053503  0.24403122 ...  0.6220595  -1.0896094\n",
            "  -0.18149586]\n",
            " [ 0.7810285  -0.4594262  -0.24843779 ...  0.7919218  -0.81810147\n",
            "   0.10072853]\n",
            " [ 0.48542172 -0.24725743 -1.0798802  ... -0.17603132 -0.4668165\n",
            "  -0.8211762 ]]\n"
          ]
        }
      ],
      "source": [
        "tfhub_handle_encoder = 'https://tfhub.dev/tensorflow/bert_multi_cased_L-12_H-768_A-12/3'\n",
        "tfhub_handle_preprocess = 'https://tfhub.dev/tensorflow/bert_multi_cased_preprocess/3'\n",
        "text_input = [\"My favourite framework is Tensorflow. I love coding\"]\n",
        "preprocessing_layer = hub.KerasLayer(tfhub_handle_preprocess, name='preprocessing')\n",
        "encoder_inputs = preprocessing_layer(text_input)\n",
        "encoder = hub.KerasLayer(tfhub_handle_encoder, trainable=True, name='BERT_encoder')\n",
        "outputs = encoder(encoder_inputs)\n",
        "\n",
        "print(f'Loaded BERT: {tfhub_handle_encoder}')\n",
        "print(f'Pooled Outputs Shape:{outputs[\"pooled_output\"].shape}')\n",
        "print(f'Pooled Outputs Values:{outputs[\"pooled_output\"][0, :12]}')\n",
        "print(f'Sequence Outputs Shape:{outputs[\"sequence_output\"].shape}')\n",
        "print(f'Sequence Outputs Values:{outputs[\"sequence_output\"][0, :12]}')\n"
      ]
    },
    {
      "cell_type": "markdown",
      "metadata": {
        "id": "rSLWPCj12lyg"
      },
      "source": [
        "###3.1. Costruire il classificatore basato su vettori dei token"
      ]
    },
    {
      "cell_type": "code",
      "execution_count": null,
      "metadata": {
        "id": "TcK_eZA5ru0z"
      },
      "outputs": [],
      "source": [
        "def build_classifier_model_token_vectors():\n",
        "  tfhub_handle_encoder = 'https://tfhub.dev/tensorflow/bert_multi_cased_L-12_H-768_A-12/3'\n",
        "  tfhub_handle_preprocess = 'https://tfhub.dev/tensorflow/bert_multi_cased_preprocess/3'\n",
        "  text_input = tf.keras.layers.Input(shape=(), dtype=tf.string, name='text')\n",
        "  preprocessing_layer = hub.KerasLayer(tfhub_handle_preprocess, name='preprocessing')\n",
        "  encoder_inputs = preprocessing_layer(text_input)\n",
        "  encoder = hub.KerasLayer(tfhub_handle_encoder, trainable=True, name='BERT_encoder')\n",
        "  outputs = encoder(encoder_inputs)\n",
        "  net = outputs['sequence_output']\n",
        "  net = tf.keras.layers.Dropout(0.1)(net)\n",
        "  net = tf.keras.layers.Bidirectional(tf.keras.layers.LSTM(128, name='reduction'))(net)\n",
        "  net = tf.keras.layers.Dense(1, activation=None, name='classifier')(net)\n",
        "  return tf.keras.Model(text_input, net)"
      ]
    },
    {
      "cell_type": "code",
      "execution_count": null,
      "metadata": {
        "colab": {
          "base_uri": "https://localhost:8080/",
          "height": 564
        },
        "id": "tJSiiyOQ6r7t",
        "outputId": "7a914fbe-a0ad-4d8e-fbd6-0739c5c250f9"
      },
      "outputs": [
        {
          "output_type": "execute_result",
          "data": {
            "image/png": "[encoded data removed]",
            "text/plain": [
              "<IPython.core.display.Image object>"
            ]
          },
          "metadata": {},
          "execution_count": 66
        }
      ],
      "source": [
        "classifier_model_token = build_classifier_model_token_vectors()\n",
        "# Plot the model\n",
        "tf.keras.utils.plot_model(classifier_model_token)"
      ]
    },
    {
      "cell_type": "markdown",
      "metadata": {
        "id": "TJfTuo0sBNuv"
      },
      "source": [
        "###3.2. Costruire il classificatore basato su vettori delle frasi"
      ]
    },
    {
      "cell_type": "code",
      "execution_count": null,
      "metadata": {
        "id": "G2c80vp4BOct"
      },
      "outputs": [],
      "source": [
        "def build_classifier_model_sentence_vector():\n",
        "  tfhub_handle_encoder = 'https://tfhub.dev/tensorflow/bert_multi_cased_L-12_H-768_A-12/3'\n",
        "  tfhub_handle_preprocess = 'https://tfhub.dev/tensorflow/bert_multi_cased_preprocess/3'\n",
        "  text_input = tf.keras.layers.Input(shape=(), dtype=tf.string, name='text')\n",
        "  preprocessing_layer = hub.KerasLayer(tfhub_handle_preprocess, name='preprocessing')\n",
        "  encoder_inputs = preprocessing_layer(text_input)\n",
        "  encoder = hub.KerasLayer(tfhub_handle_encoder, trainable=True, name='BERT_encoder')\n",
        "  outputs = encoder(encoder_inputs)\n",
        "  net = outputs['pooled_output']\n",
        "  net = tf.keras.layers.Dropout(0.1)(net)\n",
        "  net = tf.keras.layers.Dense(1, activation=None, name='classifier')(net)\n",
        "  return tf.keras.Model(text_input, net)\n"
      ]
    },
    {
      "cell_type": "code",
      "execution_count": null,
      "metadata": {
        "colab": {
          "base_uri": "https://localhost:8080/",
          "height": 466
        },
        "id": "FSjp96OHBl-f",
        "outputId": "b298e4b9-2795-4cf1-cd55-5842c6950931"
      },
      "outputs": [
        {
          "output_type": "execute_result",
          "data": {
            "image/png": "[encoded data removed]",
            "text/plain": [
              "<IPython.core.display.Image object>"
            ]
          },
          "metadata": {},
          "execution_count": 68
        }
      ],
      "source": [
        "classifier_model_sentence = build_classifier_model_sentence_vector()\n",
        "# Plot the model\n",
        "tf.keras.utils.plot_model(classifier_model_sentence)"
      ]
    },
    {
      "cell_type": "markdown",
      "metadata": {
        "id": "R2CtZXo_sizO"
      },
      "source": [
        "###3.3 Addestrare/Testare il modello basato su Transformers"
      ]
    },
    {
      "cell_type": "code",
      "execution_count": null,
      "metadata": {
        "id": "eg9gKvfdsS6g"
      },
      "outputs": [],
      "source": [
        "def train_model(model, train_sentences):\n",
        "  loss = tf.keras.losses.BinaryCrossentropy(from_logits=True)\n",
        "  metrics = tf.metrics.BinaryAccuracy()\n",
        "\n",
        "  # Create train dataset\n",
        "  train_dataset = tf.data.Dataset.from_tensor_slices((tf.convert_to_tensor(train_sentences, dtype=tf.string), tf.convert_to_tensor(train_labels, dtype=tf.int32)))\n",
        "  train_dataset = train_dataset.batch(8)\n",
        "  train_dataset = train_dataset.shuffle(len(train_labels), reshuffle_each_iteration=True)\n",
        "\n",
        "  # Setup training parameters\n",
        "  epochs = 5\n",
        "  steps_per_epoch = tf.data.experimental.cardinality(train_dataset).numpy()\n",
        "  num_train_steps = steps_per_epoch * epochs\n",
        "  num_warmup_steps = int(0.1*num_train_steps)\n",
        "\n",
        "  # Build Optimizer\n",
        "  init_lr = 3e-5\n",
        "  optimizer = optimization.create_optimizer(init_lr=init_lr,\n",
        "                                            num_train_steps=num_train_steps,\n",
        "                                            num_warmup_steps=num_warmup_steps,\n",
        "                                            optimizer_type='adamw')\n",
        "\n",
        "  # Create the model\n",
        "  model.compile(optimizer=optimizer,\n",
        "                          loss=loss,\n",
        "                          metrics=metrics)\n",
        "  history = model.fit(x=train_dataset, epochs=epochs)"
      ]
    },
    {
      "cell_type": "code",
      "execution_count": null,
      "metadata": {
        "id": "GHP351CustwU"
      },
      "outputs": [],
      "source": [
        "def test_model(model, test_sentences):\n",
        "  # Evalautate\n",
        "  test_dataset = tf.data.Dataset.from_tensor_slices((tf.convert_to_tensor(test_sentences, dtype=tf.string), tf.convert_to_tensor(test_labels, dtype=tf.int32)))\n",
        "  test_dataset = test_dataset.batch(8)\n",
        "  loss, accuracy = model.evaluate(test_dataset)\n",
        "  print(f'Loss: {loss}')\n",
        "  print(f'Accuracy: {accuracy}')\n",
        "\n",
        "  from sklearn.metrics import classification_report\n",
        "  predictions = model.predict(test_dataset)\n",
        "  predictions = [0 if x < 0.5 else 1 for x in predictions]\n",
        "  print(classification_report(test_labels, predictions))"
      ]
    },
    {
      "cell_type": "markdown",
      "metadata": {
        "id": "6wSTV7aoC3dZ"
      },
      "source": [
        "Addestriamo il modello costruito con i vettori di ogni parola sulle recensioni del training set e valutiamo il modello allenato sul test set."
      ]
    },
    {
      "cell_type": "code",
      "execution_count": null,
      "metadata": {
        "colab": {
          "base_uri": "https://localhost:8080/"
        },
        "id": "kbWpo26-6m0K",
        "outputId": "d5a723e4-255e-468b-bd78-6cf3fca7e14a"
      },
      "outputs": [
        {
          "output_type": "stream",
          "name": "stdout",
          "text": [
            "Epoch 1/5\n",
            "125/125 [==============================] - 67s 351ms/step - loss: 0.6837 - binary_accuracy: 0.5550\n",
            "Epoch 2/5\n",
            "125/125 [==============================] - 43s 341ms/step - loss: 0.4597 - binary_accuracy: 0.7860\n",
            "Epoch 3/5\n",
            "125/125 [==============================] - 43s 344ms/step - loss: 0.2544 - binary_accuracy: 0.9160\n",
            "Epoch 4/5\n",
            "125/125 [==============================] - 43s 342ms/step - loss: 0.1142 - binary_accuracy: 0.9690\n",
            "Epoch 5/5\n",
            "125/125 [==============================] - 45s 358ms/step - loss: 0.0262 - binary_accuracy: 0.9920\n",
            "125/125 [==============================] - 14s 93ms/step - loss: 1.1596 - binary_accuracy: 0.7960\n",
            "Loss: 1.1595827341079712\n",
            "Accuracy: 0.7960000038146973\n",
            "125/125 [==============================] - 13s 95ms/step\n",
            "              precision    recall  f1-score   support\n",
            "\n",
            "           0       0.78      0.85      0.81       515\n",
            "           1       0.82      0.74      0.78       485\n",
            "\n",
            "    accuracy                           0.80      1000\n",
            "   macro avg       0.80      0.79      0.79      1000\n",
            "weighted avg       0.80      0.80      0.80      1000\n",
            "\n"
          ]
        }
      ],
      "source": [
        "# Train the model on token-level task\n",
        "train_model(classifier_model_token, train_sentences)\n",
        "\n",
        "# Test the model on token-level task\n",
        "test_model(classifier_model_token, test_sentences)"
      ]
    },
    {
      "cell_type": "markdown",
      "metadata": {
        "id": "wlCBJXB8DGdW"
      },
      "source": [
        "Addestriamo il modello costruito con i vettori di ogni recensione sul training set e valutiamo il modello allenato sul test set."
      ]
    },
    {
      "cell_type": "code",
      "execution_count": null,
      "metadata": {
        "colab": {
          "base_uri": "https://localhost:8080/"
        },
        "id": "67R_Vrt67I7A",
        "outputId": "c4d2a8d5-b5a5-4909-a98a-e52d1fd7bc27"
      },
      "outputs": [
        {
          "output_type": "stream",
          "name": "stdout",
          "text": [
            "Epoch 1/5\n",
            "125/125 [==============================] - 62s 333ms/step - loss: 0.7352 - binary_accuracy: 0.4980\n",
            "Epoch 2/5\n",
            "125/125 [==============================] - 41s 328ms/step - loss: 0.6191 - binary_accuracy: 0.6360\n",
            "Epoch 3/5\n",
            "125/125 [==============================] - 41s 327ms/step - loss: 0.4467 - binary_accuracy: 0.8250\n",
            "Epoch 4/5\n",
            "125/125 [==============================] - 41s 328ms/step - loss: 0.2817 - binary_accuracy: 0.9120\n",
            "Epoch 5/5\n",
            "125/125 [==============================] - 41s 328ms/step - loss: 0.1693 - binary_accuracy: 0.9560\n",
            "125/125 [==============================] - 12s 90ms/step - loss: 0.8729 - binary_accuracy: 0.8090\n",
            "Loss: 0.872871458530426\n",
            "Accuracy: 0.8090000152587891\n",
            "125/125 [==============================] - 12s 90ms/step\n",
            "              precision    recall  f1-score   support\n",
            "\n",
            "           0       0.81      0.83      0.82       515\n",
            "           1       0.81      0.79      0.80       485\n",
            "\n",
            "    accuracy                           0.81      1000\n",
            "   macro avg       0.81      0.81      0.81      1000\n",
            "weighted avg       0.81      0.81      0.81      1000\n",
            "\n"
          ]
        }
      ],
      "source": [
        "# Train the model on token-level task\n",
        "train_model(classifier_model_sentence, train_sentences)\n",
        "\n",
        "# Test the model on token-level task\n",
        "test_model(classifier_model_sentence, test_sentences)"
      ]
    },
    {
      "cell_type": "code",
      "source": [
        "test_model(classifier_model_sentence, test_sentences)"
      ],
      "metadata": {
        "colab": {
          "base_uri": "https://localhost:8080/"
        },
        "id": "6f_vVK7_0wdd",
        "outputId": "6e6c4b70-132c-4260-bd4f-e7440d83e3f0"
      },
      "execution_count": null,
      "outputs": [
        {
          "output_type": "stream",
          "name": "stdout",
          "text": [
            "125/125 [==============================] - 12s 94ms/step - loss: 0.8729 - binary_accuracy: 0.8090\n",
            "Loss: 0.872871458530426\n",
            "Accuracy: 0.8090000152587891\n",
            "125/125 [==============================] - 11s 85ms/step\n",
            "              precision    recall  f1-score   support\n",
            "\n",
            "           0       0.81      0.83      0.82       515\n",
            "           1       0.81      0.79      0.80       485\n",
            "\n",
            "    accuracy                           0.81      1000\n",
            "   macro avg       0.81      0.81      0.81      1000\n",
            "weighted avg       0.81      0.81      0.81      1000\n",
            "\n"
          ]
        }
      ]
    }
  ],
  "metadata": {
    "accelerator": "GPU",
    "colab": {
      "provenance": [],
      "gpuType": "T4"
    },
    "gpuClass": "standard",
    "kernelspec": {
      "display_name": "Python 3",
      "name": "python3"
    },
    "language_info": {
      "name": "python"
    },
    "widgets": {
      "application/vnd.jupyter.widget-state+json": {
        "8e1549e837a84aba83133afbf3ee8b49": {
          "model_module": "@jupyter-widgets/controls",
          "model_name": "HBoxModel",
          "model_module_version": "1.5.0",
          "state": {
            "_dom_classes": [],
            "_model_module": "@jupyter-widgets/controls",
            "_model_module_version": "1.5.0",
            "_model_name": "HBoxModel",
            "_view_count": null,
            "_view_module": "@jupyter-widgets/controls",
            "_view_module_version": "1.5.0",
            "_view_name": "HBoxView",
            "box_style": "",
            "children": [
              "IPY_MODEL_fe750cff33904c5a83a37ed2c0837e63",
              "IPY_MODEL_d9bb6f82f1e041aebc931e7a79cc537f",
              "IPY_MODEL_daec62ba742a46a5ab468e51acda73a8"
            ],
            "layout": "IPY_MODEL_33b7f854768345f4be4b7ad45ca17e22"
          }
        },
        "fe750cff33904c5a83a37ed2c0837e63": {
          "model_module": "@jupyter-widgets/controls",
          "model_name": "HTMLModel",
          "model_module_version": "1.5.0",
          "state": {
            "_dom_classes": [],
            "_model_module": "@jupyter-widgets/controls",
            "_model_module_version": "1.5.0",
            "_model_name": "HTMLModel",
            "_view_count": null,
            "_view_module": "@jupyter-widgets/controls",
            "_view_module_version": "1.5.0",
            "_view_name": "HTMLView",
            "description": "",
            "description_tooltip": null,
            "layout": "IPY_MODEL_401e15b018a54c7fb11358864e971906",
            "placeholder": "​",
            "style": "IPY_MODEL_08f7e50fa43f4873b08f770a62764235",
            "value": "Downloading (…)solve/main/vocab.txt: 100%"
          }
        },
        "d9bb6f82f1e041aebc931e7a79cc537f": {
          "model_module": "@jupyter-widgets/controls",
          "model_name": "FloatProgressModel",
          "model_module_version": "1.5.0",
          "state": {
            "_dom_classes": [],
            "_model_module": "@jupyter-widgets/controls",
            "_model_module_version": "1.5.0",
            "_model_name": "FloatProgressModel",
            "_view_count": null,
            "_view_module": "@jupyter-widgets/controls",
            "_view_module_version": "1.5.0",
            "_view_name": "ProgressView",
            "bar_style": "success",
            "description": "",
            "description_tooltip": null,
            "layout": "IPY_MODEL_ec88663872054a11a50c817aac74607e",
            "max": 995526,
            "min": 0,
            "orientation": "horizontal",
            "style": "IPY_MODEL_4fcbcee98dd0405db145d60585863a17",
            "value": 995526
          }
        },
        "daec62ba742a46a5ab468e51acda73a8": {
          "model_module": "@jupyter-widgets/controls",
          "model_name": "HTMLModel",
          "model_module_version": "1.5.0",
          "state": {
            "_dom_classes": [],
            "_model_module": "@jupyter-widgets/controls",
            "_model_module_version": "1.5.0",
            "_model_name": "HTMLModel",
            "_view_count": null,
            "_view_module": "@jupyter-widgets/controls",
            "_view_module_version": "1.5.0",
            "_view_name": "HTMLView",
            "description": "",
            "description_tooltip": null,
            "layout": "IPY_MODEL_9ccae878bf144b3f9f3110b6599007f2",
            "placeholder": "​",
            "style": "IPY_MODEL_62c755c0998344b8ba43c91eb1119470",
            "value": " 996k/996k [00:00&lt;00:00, 38.9MB/s]"
          }
        },
        "33b7f854768345f4be4b7ad45ca17e22": {
          "model_module": "@jupyter-widgets/base",
          "model_name": "LayoutModel",
          "model_module_version": "1.2.0",
          "state": {
            "_model_module": "@jupyter-widgets/base",
            "_model_module_version": "1.2.0",
            "_model_name": "LayoutModel",
            "_view_count": null,
            "_view_module": "@jupyter-widgets/base",
            "_view_module_version": "1.2.0",
            "_view_name": "LayoutView",
            "align_content": null,
            "align_items": null,
            "align_self": null,
            "border": null,
            "bottom": null,
            "display": null,
            "flex": null,
            "flex_flow": null,
            "grid_area": null,
            "grid_auto_columns": null,
            "grid_auto_flow": null,
            "grid_auto_rows": null,
            "grid_column": null,
            "grid_gap": null,
            "grid_row": null,
            "grid_template_areas": null,
            "grid_template_columns": null,
            "grid_template_rows": null,
            "height": null,
            "justify_content": null,
            "justify_items": null,
            "left": null,
            "margin": null,
            "max_height": null,
            "max_width": null,
            "min_height": null,
            "min_width": null,
            "object_fit": null,
            "object_position": null,
            "order": null,
            "overflow": null,
            "overflow_x": null,
            "overflow_y": null,
            "padding": null,
            "right": null,
            "top": null,
            "visibility": null,
            "width": null
          }
        },
        "401e15b018a54c7fb11358864e971906": {
          "model_module": "@jupyter-widgets/base",
          "model_name": "LayoutModel",
          "model_module_version": "1.2.0",
          "state": {
            "_model_module": "@jupyter-widgets/base",
            "_model_module_version": "1.2.0",
            "_model_name": "LayoutModel",
            "_view_count": null,
            "_view_module": "@jupyter-widgets/base",
            "_view_module_version": "1.2.0",
            "_view_name": "LayoutView",
            "align_content": null,
            "align_items": null,
            "align_self": null,
            "border": null,
            "bottom": null,
            "display": null,
            "flex": null,
            "flex_flow": null,
            "grid_area": null,
            "grid_auto_columns": null,
            "grid_auto_flow": null,
            "grid_auto_rows": null,
            "grid_column": null,
            "grid_gap": null,
            "grid_row": null,
            "grid_template_areas": null,
            "grid_template_columns": null,
            "grid_template_rows": null,
            "height": null,
            "justify_content": null,
            "justify_items": null,
            "left": null,
            "margin": null,
            "max_height": null,
            "max_width": null,
            "min_height": null,
            "min_width": null,
            "object_fit": null,
            "object_position": null,
            "order": null,
            "overflow": null,
            "overflow_x": null,
            "overflow_y": null,
            "padding": null,
            "right": null,
            "top": null,
            "visibility": null,
            "width": null
          }
        },
        "08f7e50fa43f4873b08f770a62764235": {
          "model_module": "@jupyter-widgets/controls",
          "model_name": "DescriptionStyleModel",
          "model_module_version": "1.5.0",
          "state": {
            "_model_module": "@jupyter-widgets/controls",
            "_model_module_version": "1.5.0",
            "_model_name": "DescriptionStyleModel",
            "_view_count": null,
            "_view_module": "@jupyter-widgets/base",
            "_view_module_version": "1.2.0",
            "_view_name": "StyleView",
            "description_width": ""
          }
        },
        "ec88663872054a11a50c817aac74607e": {
          "model_module": "@jupyter-widgets/base",
          "model_name": "LayoutModel",
          "model_module_version": "1.2.0",
          "state": {
            "_model_module": "@jupyter-widgets/base",
            "_model_module_version": "1.2.0",
            "_model_name": "LayoutModel",
            "_view_count": null,
            "_view_module": "@jupyter-widgets/base",
            "_view_module_version": "1.2.0",
            "_view_name": "LayoutView",
            "align_content": null,
            "align_items": null,
            "align_self": null,
            "border": null,
            "bottom": null,
            "display": null,
            "flex": null,
            "flex_flow": null,
            "grid_area": null,
            "grid_auto_columns": null,
            "grid_auto_flow": null,
            "grid_auto_rows": null,
            "grid_column": null,
            "grid_gap": null,
            "grid_row": null,
            "grid_template_areas": null,
            "grid_template_columns": null,
            "grid_template_rows": null,
            "height": null,
            "justify_content": null,
            "justify_items": null,
            "left": null,
            "margin": null,
            "max_height": null,
            "max_width": null,
            "min_height": null,
            "min_width": null,
            "object_fit": null,
            "object_position": null,
            "order": null,
            "overflow": null,
            "overflow_x": null,
            "overflow_y": null,
            "padding": null,
            "right": null,
            "top": null,
            "visibility": null,
            "width": null
          }
        },
        "4fcbcee98dd0405db145d60585863a17": {
          "model_module": "@jupyter-widgets/controls",
          "model_name": "ProgressStyleModel",
          "model_module_version": "1.5.0",
          "state": {
            "_model_module": "@jupyter-widgets/controls",
            "_model_module_version": "1.5.0",
            "_model_name": "ProgressStyleModel",
            "_view_count": null,
            "_view_module": "@jupyter-widgets/base",
            "_view_module_version": "1.2.0",
            "_view_name": "StyleView",
            "bar_color": null,
            "description_width": ""
          }
        },
        "9ccae878bf144b3f9f3110b6599007f2": {
          "model_module": "@jupyter-widgets/base",
          "model_name": "LayoutModel",
          "model_module_version": "1.2.0",
          "state": {
            "_model_module": "@jupyter-widgets/base",
            "_model_module_version": "1.2.0",
            "_model_name": "LayoutModel",
            "_view_count": null,
            "_view_module": "@jupyter-widgets/base",
            "_view_module_version": "1.2.0",
            "_view_name": "LayoutView",
            "align_content": null,
            "align_items": null,
            "align_self": null,
            "border": null,
            "bottom": null,
            "display": null,
            "flex": null,
            "flex_flow": null,
            "grid_area": null,
            "grid_auto_columns": null,
            "grid_auto_flow": null,
            "grid_auto_rows": null,
            "grid_column": null,
            "grid_gap": null,
            "grid_row": null,
            "grid_template_areas": null,
            "grid_template_columns": null,
            "grid_template_rows": null,
            "height": null,
            "justify_content": null,
            "justify_items": null,
            "left": null,
            "margin": null,
            "max_height": null,
            "max_width": null,
            "min_height": null,
            "min_width": null,
            "object_fit": null,
            "object_position": null,
            "order": null,
            "overflow": null,
            "overflow_x": null,
            "overflow_y": null,
            "padding": null,
            "right": null,
            "top": null,
            "visibility": null,
            "width": null
          }
        },
        "62c755c0998344b8ba43c91eb1119470": {
          "model_module": "@jupyter-widgets/controls",
          "model_name": "DescriptionStyleModel",
          "model_module_version": "1.5.0",
          "state": {
            "_model_module": "@jupyter-widgets/controls",
            "_model_module_version": "1.5.0",
            "_model_name": "DescriptionStyleModel",
            "_view_count": null,
            "_view_module": "@jupyter-widgets/base",
            "_view_module_version": "1.2.0",
            "_view_name": "StyleView",
            "description_width": ""
          }
        },
        "6cb915c1d2a74f55ba1cc557c4708072": {
          "model_module": "@jupyter-widgets/controls",
          "model_name": "HBoxModel",
          "model_module_version": "1.5.0",
          "state": {
            "_dom_classes": [],
            "_model_module": "@jupyter-widgets/controls",
            "_model_module_version": "1.5.0",
            "_model_name": "HBoxModel",
            "_view_count": null,
            "_view_module": "@jupyter-widgets/controls",
            "_view_module_version": "1.5.0",
            "_view_name": "HBoxView",
            "box_style": "",
            "children": [
              "IPY_MODEL_f300de7e17394cd2921923ce80e192b0",
              "IPY_MODEL_27af75739aae48d4bc32cf2877c84396",
              "IPY_MODEL_4a7776a2733e460baf010ede8a31ef6f"
            ],
            "layout": "IPY_MODEL_1dc56ad187cf4af38550e3c0f479be9b"
          }
        },
        "f300de7e17394cd2921923ce80e192b0": {
          "model_module": "@jupyter-widgets/controls",
          "model_name": "HTMLModel",
          "model_module_version": "1.5.0",
          "state": {
            "_dom_classes": [],
            "_model_module": "@jupyter-widgets/controls",
            "_model_module_version": "1.5.0",
            "_model_name": "HTMLModel",
            "_view_count": null,
            "_view_module": "@jupyter-widgets/controls",
            "_view_module_version": "1.5.0",
            "_view_name": "HTMLView",
            "description": "",
            "description_tooltip": null,
            "layout": "IPY_MODEL_e4420cd129844942921754e0a30fba3f",
            "placeholder": "​",
            "style": "IPY_MODEL_f75c8458ae214464914f39b8f2e00020",
            "value": "Downloading (…)okenizer_config.json: 100%"
          }
        },
        "27af75739aae48d4bc32cf2877c84396": {
          "model_module": "@jupyter-widgets/controls",
          "model_name": "FloatProgressModel",
          "model_module_version": "1.5.0",
          "state": {
            "_dom_classes": [],
            "_model_module": "@jupyter-widgets/controls",
            "_model_module_version": "1.5.0",
            "_model_name": "FloatProgressModel",
            "_view_count": null,
            "_view_module": "@jupyter-widgets/controls",
            "_view_module_version": "1.5.0",
            "_view_name": "ProgressView",
            "bar_style": "success",
            "description": "",
            "description_tooltip": null,
            "layout": "IPY_MODEL_40d23f27d4f84918b1b9dc5d5bc34142",
            "max": 29,
            "min": 0,
            "orientation": "horizontal",
            "style": "IPY_MODEL_21f16690de5b4606910c9e31b2798c0d",
            "value": 29
          }
        },
        "4a7776a2733e460baf010ede8a31ef6f": {
          "model_module": "@jupyter-widgets/controls",
          "model_name": "HTMLModel",
          "model_module_version": "1.5.0",
          "state": {
            "_dom_classes": [],
            "_model_module": "@jupyter-widgets/controls",
            "_model_module_version": "1.5.0",
            "_model_name": "HTMLModel",
            "_view_count": null,
            "_view_module": "@jupyter-widgets/controls",
            "_view_module_version": "1.5.0",
            "_view_name": "HTMLView",
            "description": "",
            "description_tooltip": null,
            "layout": "IPY_MODEL_24d07423dc674e2f9aa845030738ffdf",
            "placeholder": "​",
            "style": "IPY_MODEL_5d3071ce49c14359b8f322dd0a8a9e18",
            "value": " 29.0/29.0 [00:00&lt;00:00, 1.24kB/s]"
          }
        },
        "1dc56ad187cf4af38550e3c0f479be9b": {
          "model_module": "@jupyter-widgets/base",
          "model_name": "LayoutModel",
          "model_module_version": "1.2.0",
          "state": {
            "_model_module": "@jupyter-widgets/base",
            "_model_module_version": "1.2.0",
            "_model_name": "LayoutModel",
            "_view_count": null,
            "_view_module": "@jupyter-widgets/base",
            "_view_module_version": "1.2.0",
            "_view_name": "LayoutView",
            "align_content": null,
            "align_items": null,
            "align_self": null,
            "border": null,
            "bottom": null,
            "display": null,
            "flex": null,
            "flex_flow": null,
            "grid_area": null,
            "grid_auto_columns": null,
            "grid_auto_flow": null,
            "grid_auto_rows": null,
            "grid_column": null,
            "grid_gap": null,
            "grid_row": null,
            "grid_template_areas": null,
            "grid_template_columns": null,
            "grid_template_rows": null,
            "height": null,
            "justify_content": null,
            "justify_items": null,
            "left": null,
            "margin": null,
            "max_height": null,
            "max_width": null,
            "min_height": null,
            "min_width": null,
            "object_fit": null,
            "object_position": null,
            "order": null,
            "overflow": null,
            "overflow_x": null,
            "overflow_y": null,
            "padding": null,
            "right": null,
            "top": null,
            "visibility": null,
            "width": null
          }
        },
        "e4420cd129844942921754e0a30fba3f": {
          "model_module": "@jupyter-widgets/base",
          "model_name": "LayoutModel",
          "model_module_version": "1.2.0",
          "state": {
            "_model_module": "@jupyter-widgets/base",
            "_model_module_version": "1.2.0",
            "_model_name": "LayoutModel",
            "_view_count": null,
            "_view_module": "@jupyter-widgets/base",
            "_view_module_version": "1.2.0",
            "_view_name": "LayoutView",
            "align_content": null,
            "align_items": null,
            "align_self": null,
            "border": null,
            "bottom": null,
            "display": null,
            "flex": null,
            "flex_flow": null,
            "grid_area": null,
            "grid_auto_columns": null,
            "grid_auto_flow": null,
            "grid_auto_rows": null,
            "grid_column": null,
            "grid_gap": null,
            "grid_row": null,
            "grid_template_areas": null,
            "grid_template_columns": null,
            "grid_template_rows": null,
            "height": null,
            "justify_content": null,
            "justify_items": null,
            "left": null,
            "margin": null,
            "max_height": null,
            "max_width": null,
            "min_height": null,
            "min_width": null,
            "object_fit": null,
            "object_position": null,
            "order": null,
            "overflow": null,
            "overflow_x": null,
            "overflow_y": null,
            "padding": null,
            "right": null,
            "top": null,
            "visibility": null,
            "width": null
          }
        },
        "f75c8458ae214464914f39b8f2e00020": {
          "model_module": "@jupyter-widgets/controls",
          "model_name": "DescriptionStyleModel",
          "model_module_version": "1.5.0",
          "state": {
            "_model_module": "@jupyter-widgets/controls",
            "_model_module_version": "1.5.0",
            "_model_name": "DescriptionStyleModel",
            "_view_count": null,
            "_view_module": "@jupyter-widgets/base",
            "_view_module_version": "1.2.0",
            "_view_name": "StyleView",
            "description_width": ""
          }
        },
        "40d23f27d4f84918b1b9dc5d5bc34142": {
          "model_module": "@jupyter-widgets/base",
          "model_name": "LayoutModel",
          "model_module_version": "1.2.0",
          "state": {
            "_model_module": "@jupyter-widgets/base",
            "_model_module_version": "1.2.0",
            "_model_name": "LayoutModel",
            "_view_count": null,
            "_view_module": "@jupyter-widgets/base",
            "_view_module_version": "1.2.0",
            "_view_name": "LayoutView",
            "align_content": null,
            "align_items": null,
            "align_self": null,
            "border": null,
            "bottom": null,
            "display": null,
            "flex": null,
            "flex_flow": null,
            "grid_area": null,
            "grid_auto_columns": null,
            "grid_auto_flow": null,
            "grid_auto_rows": null,
            "grid_column": null,
            "grid_gap": null,
            "grid_row": null,
            "grid_template_areas": null,
            "grid_template_columns": null,
            "grid_template_rows": null,
            "height": null,
            "justify_content": null,
            "justify_items": null,
            "left": null,
            "margin": null,
            "max_height": null,
            "max_width": null,
            "min_height": null,
            "min_width": null,
            "object_fit": null,
            "object_position": null,
            "order": null,
            "overflow": null,
            "overflow_x": null,
            "overflow_y": null,
            "padding": null,
            "right": null,
            "top": null,
            "visibility": null,
            "width": null
          }
        },
        "21f16690de5b4606910c9e31b2798c0d": {
          "model_module": "@jupyter-widgets/controls",
          "model_name": "ProgressStyleModel",
          "model_module_version": "1.5.0",
          "state": {
            "_model_module": "@jupyter-widgets/controls",
            "_model_module_version": "1.5.0",
            "_model_name": "ProgressStyleModel",
            "_view_count": null,
            "_view_module": "@jupyter-widgets/base",
            "_view_module_version": "1.2.0",
            "_view_name": "StyleView",
            "bar_color": null,
            "description_width": ""
          }
        },
        "24d07423dc674e2f9aa845030738ffdf": {
          "model_module": "@jupyter-widgets/base",
          "model_name": "LayoutModel",
          "model_module_version": "1.2.0",
          "state": {
            "_model_module": "@jupyter-widgets/base",
            "_model_module_version": "1.2.0",
            "_model_name": "LayoutModel",
            "_view_count": null,
            "_view_module": "@jupyter-widgets/base",
            "_view_module_version": "1.2.0",
            "_view_name": "LayoutView",
            "align_content": null,
            "align_items": null,
            "align_self": null,
            "border": null,
            "bottom": null,
            "display": null,
            "flex": null,
            "flex_flow": null,
            "grid_area": null,
            "grid_auto_columns": null,
            "grid_auto_flow": null,
            "grid_auto_rows": null,
            "grid_column": null,
            "grid_gap": null,
            "grid_row": null,
            "grid_template_areas": null,
            "grid_template_columns": null,
            "grid_template_rows": null,
            "height": null,
            "justify_content": null,
            "justify_items": null,
            "left": null,
            "margin": null,
            "max_height": null,
            "max_width": null,
            "min_height": null,
            "min_width": null,
            "object_fit": null,
            "object_position": null,
            "order": null,
            "overflow": null,
            "overflow_x": null,
            "overflow_y": null,
            "padding": null,
            "right": null,
            "top": null,
            "visibility": null,
            "width": null
          }
        },
        "5d3071ce49c14359b8f322dd0a8a9e18": {
          "model_module": "@jupyter-widgets/controls",
          "model_name": "DescriptionStyleModel",
          "model_module_version": "1.5.0",
          "state": {
            "_model_module": "@jupyter-widgets/controls",
            "_model_module_version": "1.5.0",
            "_model_name": "DescriptionStyleModel",
            "_view_count": null,
            "_view_module": "@jupyter-widgets/base",
            "_view_module_version": "1.2.0",
            "_view_name": "StyleView",
            "description_width": ""
          }
        },
        "6476ca83f7194c42af676764262a630f": {
          "model_module": "@jupyter-widgets/controls",
          "model_name": "HBoxModel",
          "model_module_version": "1.5.0",
          "state": {
            "_dom_classes": [],
            "_model_module": "@jupyter-widgets/controls",
            "_model_module_version": "1.5.0",
            "_model_name": "HBoxModel",
            "_view_count": null,
            "_view_module": "@jupyter-widgets/controls",
            "_view_module_version": "1.5.0",
            "_view_name": "HBoxView",
            "box_style": "",
            "children": [
              "IPY_MODEL_c3a194b1586f4abfaead6c3830bd2389",
              "IPY_MODEL_f3fecd7b405b476382c61fd42cf5eba4",
              "IPY_MODEL_ea08e0e785054d7185c9b16da8cb8a07"
            ],
            "layout": "IPY_MODEL_2a04281ab50c447285abc3630c646c3e"
          }
        },
        "c3a194b1586f4abfaead6c3830bd2389": {
          "model_module": "@jupyter-widgets/controls",
          "model_name": "HTMLModel",
          "model_module_version": "1.5.0",
          "state": {
            "_dom_classes": [],
            "_model_module": "@jupyter-widgets/controls",
            "_model_module_version": "1.5.0",
            "_model_name": "HTMLModel",
            "_view_count": null,
            "_view_module": "@jupyter-widgets/controls",
            "_view_module_version": "1.5.0",
            "_view_name": "HTMLView",
            "description": "",
            "description_tooltip": null,
            "layout": "IPY_MODEL_ccd7d82c8b7944399f2508c9a400f987",
            "placeholder": "​",
            "style": "IPY_MODEL_44af92e7ef5f4c70a26cae8d76e9e531",
            "value": "Downloading (…)lve/main/config.json: 100%"
          }
        },
        "f3fecd7b405b476382c61fd42cf5eba4": {
          "model_module": "@jupyter-widgets/controls",
          "model_name": "FloatProgressModel",
          "model_module_version": "1.5.0",
          "state": {
            "_dom_classes": [],
            "_model_module": "@jupyter-widgets/controls",
            "_model_module_version": "1.5.0",
            "_model_name": "FloatProgressModel",
            "_view_count": null,
            "_view_module": "@jupyter-widgets/controls",
            "_view_module_version": "1.5.0",
            "_view_name": "ProgressView",
            "bar_style": "success",
            "description": "",
            "description_tooltip": null,
            "layout": "IPY_MODEL_93ba39e4d71d462bbcba4c40e34323fc",
            "max": 625,
            "min": 0,
            "orientation": "horizontal",
            "style": "IPY_MODEL_87577726503c44a29edbe5c0ccc623ba",
            "value": 625
          }
        },
        "ea08e0e785054d7185c9b16da8cb8a07": {
          "model_module": "@jupyter-widgets/controls",
          "model_name": "HTMLModel",
          "model_module_version": "1.5.0",
          "state": {
            "_dom_classes": [],
            "_model_module": "@jupyter-widgets/controls",
            "_model_module_version": "1.5.0",
            "_model_name": "HTMLModel",
            "_view_count": null,
            "_view_module": "@jupyter-widgets/controls",
            "_view_module_version": "1.5.0",
            "_view_name": "HTMLView",
            "description": "",
            "description_tooltip": null,
            "layout": "IPY_MODEL_cbe9505d4a2b49b4a4981a0b04112735",
            "placeholder": "​",
            "style": "IPY_MODEL_ebdcc16183b04693a376cdf440d56e66",
            "value": " 625/625 [00:00&lt;00:00, 22.1kB/s]"
          }
        },
        "2a04281ab50c447285abc3630c646c3e": {
          "model_module": "@jupyter-widgets/base",
          "model_name": "LayoutModel",
          "model_module_version": "1.2.0",
          "state": {
            "_model_module": "@jupyter-widgets/base",
            "_model_module_version": "1.2.0",
            "_model_name": "LayoutModel",
            "_view_count": null,
            "_view_module": "@jupyter-widgets/base",
            "_view_module_version": "1.2.0",
            "_view_name": "LayoutView",
            "align_content": null,
            "align_items": null,
            "align_self": null,
            "border": null,
            "bottom": null,
            "display": null,
            "flex": null,
            "flex_flow": null,
            "grid_area": null,
            "grid_auto_columns": null,
            "grid_auto_flow": null,
            "grid_auto_rows": null,
            "grid_column": null,
            "grid_gap": null,
            "grid_row": null,
            "grid_template_areas": null,
            "grid_template_columns": null,
            "grid_template_rows": null,
            "height": null,
            "justify_content": null,
            "justify_items": null,
            "left": null,
            "margin": null,
            "max_height": null,
            "max_width": null,
            "min_height": null,
            "min_width": null,
            "object_fit": null,
            "object_position": null,
            "order": null,
            "overflow": null,
            "overflow_x": null,
            "overflow_y": null,
            "padding": null,
            "right": null,
            "top": null,
            "visibility": null,
            "width": null
          }
        },
        "ccd7d82c8b7944399f2508c9a400f987": {
          "model_module": "@jupyter-widgets/base",
          "model_name": "LayoutModel",
          "model_module_version": "1.2.0",
          "state": {
            "_model_module": "@jupyter-widgets/base",
            "_model_module_version": "1.2.0",
            "_model_name": "LayoutModel",
            "_view_count": null,
            "_view_module": "@jupyter-widgets/base",
            "_view_module_version": "1.2.0",
            "_view_name": "LayoutView",
            "align_content": null,
            "align_items": null,
            "align_self": null,
            "border": null,
            "bottom": null,
            "display": null,
            "flex": null,
            "flex_flow": null,
            "grid_area": null,
            "grid_auto_columns": null,
            "grid_auto_flow": null,
            "grid_auto_rows": null,
            "grid_column": null,
            "grid_gap": null,
            "grid_row": null,
            "grid_template_areas": null,
            "grid_template_columns": null,
            "grid_template_rows": null,
            "height": null,
            "justify_content": null,
            "justify_items": null,
            "left": null,
            "margin": null,
            "max_height": null,
            "max_width": null,
            "min_height": null,
            "min_width": null,
            "object_fit": null,
            "object_position": null,
            "order": null,
            "overflow": null,
            "overflow_x": null,
            "overflow_y": null,
            "padding": null,
            "right": null,
            "top": null,
            "visibility": null,
            "width": null
          }
        },
        "44af92e7ef5f4c70a26cae8d76e9e531": {
          "model_module": "@jupyter-widgets/controls",
          "model_name": "DescriptionStyleModel",
          "model_module_version": "1.5.0",
          "state": {
            "_model_module": "@jupyter-widgets/controls",
            "_model_module_version": "1.5.0",
            "_model_name": "DescriptionStyleModel",
            "_view_count": null,
            "_view_module": "@jupyter-widgets/base",
            "_view_module_version": "1.2.0",
            "_view_name": "StyleView",
            "description_width": ""
          }
        },
        "93ba39e4d71d462bbcba4c40e34323fc": {
          "model_module": "@jupyter-widgets/base",
          "model_name": "LayoutModel",
          "model_module_version": "1.2.0",
          "state": {
            "_model_module": "@jupyter-widgets/base",
            "_model_module_version": "1.2.0",
            "_model_name": "LayoutModel",
            "_view_count": null,
            "_view_module": "@jupyter-widgets/base",
            "_view_module_version": "1.2.0",
            "_view_name": "LayoutView",
            "align_content": null,
            "align_items": null,
            "align_self": null,
            "border": null,
            "bottom": null,
            "display": null,
            "flex": null,
            "flex_flow": null,
            "grid_area": null,
            "grid_auto_columns": null,
            "grid_auto_flow": null,
            "grid_auto_rows": null,
            "grid_column": null,
            "grid_gap": null,
            "grid_row": null,
            "grid_template_areas": null,
            "grid_template_columns": null,
            "grid_template_rows": null,
            "height": null,
            "justify_content": null,
            "justify_items": null,
            "left": null,
            "margin": null,
            "max_height": null,
            "max_width": null,
            "min_height": null,
            "min_width": null,
            "object_fit": null,
            "object_position": null,
            "order": null,
            "overflow": null,
            "overflow_x": null,
            "overflow_y": null,
            "padding": null,
            "right": null,
            "top": null,
            "visibility": null,
            "width": null
          }
        },
        "87577726503c44a29edbe5c0ccc623ba": {
          "model_module": "@jupyter-widgets/controls",
          "model_name": "ProgressStyleModel",
          "model_module_version": "1.5.0",
          "state": {
            "_model_module": "@jupyter-widgets/controls",
            "_model_module_version": "1.5.0",
            "_model_name": "ProgressStyleModel",
            "_view_count": null,
            "_view_module": "@jupyter-widgets/base",
            "_view_module_version": "1.2.0",
            "_view_name": "StyleView",
            "bar_color": null,
            "description_width": ""
          }
        },
        "cbe9505d4a2b49b4a4981a0b04112735": {
          "model_module": "@jupyter-widgets/base",
          "model_name": "LayoutModel",
          "model_module_version": "1.2.0",
          "state": {
            "_model_module": "@jupyter-widgets/base",
            "_model_module_version": "1.2.0",
            "_model_name": "LayoutModel",
            "_view_count": null,
            "_view_module": "@jupyter-widgets/base",
            "_view_module_version": "1.2.0",
            "_view_name": "LayoutView",
            "align_content": null,
            "align_items": null,
            "align_self": null,
            "border": null,
            "bottom": null,
            "display": null,
            "flex": null,
            "flex_flow": null,
            "grid_area": null,
            "grid_auto_columns": null,
            "grid_auto_flow": null,
            "grid_auto_rows": null,
            "grid_column": null,
            "grid_gap": null,
            "grid_row": null,
            "grid_template_areas": null,
            "grid_template_columns": null,
            "grid_template_rows": null,
            "height": null,
            "justify_content": null,
            "justify_items": null,
            "left": null,
            "margin": null,
            "max_height": null,
            "max_width": null,
            "min_height": null,
            "min_width": null,
            "object_fit": null,
            "object_position": null,
            "order": null,
            "overflow": null,
            "overflow_x": null,
            "overflow_y": null,
            "padding": null,
            "right": null,
            "top": null,
            "visibility": null,
            "width": null
          }
        },
        "ebdcc16183b04693a376cdf440d56e66": {
          "model_module": "@jupyter-widgets/controls",
          "model_name": "DescriptionStyleModel",
          "model_module_version": "1.5.0",
          "state": {
            "_model_module": "@jupyter-widgets/controls",
            "_model_module_version": "1.5.0",
            "_model_name": "DescriptionStyleModel",
            "_view_count": null,
            "_view_module": "@jupyter-widgets/base",
            "_view_module_version": "1.2.0",
            "_view_name": "StyleView",
            "description_width": ""
          }
        }
      }
    }
  },
  "nbformat": 4,
  "nbformat_minor": 0
}