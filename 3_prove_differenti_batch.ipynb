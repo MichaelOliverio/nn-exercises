{
 "cells": [
  {
   "cell_type": "markdown",
   "metadata": {},
   "source": [
    "# Stochastic, Mini batch e Full batch Gradient Descent\n",
    "In questo notebook faremo un confronto tra le tre varianti dell'algoritmo di ottimizzazione Gradient Descent\n",
    " * **Full Batch**: Il gradient descent utilizza tutti gli esempi per correggere i coefficienti.\n",
    " * **Stochastic**: Il gradient descent utilizza un solo esempio per volta per correggere i coefficienti.\n",
    " * **Mini Batch**: Il gradient descent utilizza un determinato numero di esempi per volta per coreggere i coefficienti.\n",
    " \n",
    "Per questo esempio utilizzeremo il dataset [Fashion MNIST](https://github.com/zalandoresearch/fashion-mnist), un dataset contenente capi di abbigliamento correttamente classificati, creato dalla popolare piattaforma di e-commerce Zalando.\n",
    "<br>\n",
    "<br>\n",
    "Cominciamo importando i moduli che ci serviranno"
   ]
  },
  {
   "cell_type": "code",
   "execution_count": 2,
   "metadata": {},
   "outputs": [],
   "source": [
    "import numpy as np\n",
    "import matplotlib.pyplot as plt\n",
    "\n",
    "from keras.models import Sequential\n",
    "from keras.layers import Dense\n",
    "\n",
    "from time import time\n",
    "\n",
    "#from scripts.random import set_seed # da utilizzare per poter riprodurre i miei risultati"
   ]
  },
  {
   "cell_type": "markdown",
   "metadata": {},
   "source": [
    "## Preparazione dei dati\n",
    "Piuttosto che scaricare i files in formato binario dalla repository, possiamo caricare il dataset utilizzando l'utility inclusa in Keras."
   ]
  },
  {
   "cell_type": "code",
   "execution_count": 3,
   "metadata": {},
   "outputs": [
    {
     "name": "stdout",
     "output_type": "stream",
     "text": [
      "Downloading data from https://storage.googleapis.com/tensorflow/tf-keras-datasets/train-labels-idx1-ubyte.gz\n",
      "29515/29515 [==============================] - 0s 1us/step\n",
      "Downloading data from https://storage.googleapis.com/tensorflow/tf-keras-datasets/train-images-idx3-ubyte.gz\n",
      "26421880/26421880 [==============================] - 11s 0us/step\n",
      "Downloading data from https://storage.googleapis.com/tensorflow/tf-keras-datasets/t10k-labels-idx1-ubyte.gz\n",
      "5148/5148 [==============================] - 0s 0s/step\n",
      "Downloading data from https://storage.googleapis.com/tensorflow/tf-keras-datasets/t10k-images-idx3-ubyte.gz\n",
      "4422102/4422102 [==============================] - 2s 0us/step\n",
      "Numero totale di proprietà: 28\n",
      "Esempi di training: 60000\n",
      "Esempi di test: 10000\n"
     ]
    }
   ],
   "source": [
    "from keras.datasets import fashion_mnist\n",
    "\n",
    "labels = [\"T-shirt/top\",\"Pantalone\",\"Pullover\",\"Vestito\",\"Cappotto\",\"Sandalo\",\"Maglietta\",\"Sneaker\",\"Borsa\",\"Stivaletto\"]\n",
    "\n",
    "(X_train, y_train), (X_test, y_test) = fashion_mnist.load_data()\n",
    "\n",
    "print(\"Numero totale di proprietà: \"+str(X_train.shape[1]))\n",
    "print(\"Esempi di training: \"+str(X_train.shape[0]))\n",
    "print(\"Esempi di test: \"+str(X_test.shape[0]))"
   ]
  },
  {
   "cell_type": "markdown",
   "metadata": {},
   "source": [
    "Le immagini appartengono ad una delle seguenti classi: *T-shirt/top, Pantalone, Pullover, Vestito, Cappotto, Sandalo, Maglietta, Sneaker, Borsa, Stivaletto*.\n",
    "<br><br>\n",
    "Ogni immagine è rappresentata da una matrice di 28x28 pixel, proviamo a visualizzare la prima osservazione del test set utilizzando la funzione <span style=\"font-family: Monaco\">imshow</span> di matplotlib."
   ]
  },
  {
   "cell_type": "code",
   "execution_count": 4,
   "metadata": {},
   "outputs": [
    {
     "name": "stdout",
     "output_type": "stream",
     "text": [
      "L'immagine figura un/o Stivaletto\n"
     ]
    },
    {
     "data": {
      "image/png": "[encoded data removed]",
      "text/plain": [
       "<Figure size 640x480 with 1 Axes>"
      ]
     },
     "metadata": {},
     "output_type": "display_data"
    }
   ],
   "source": [
    "plt.axis(\"off\")\n",
    "plt.imshow(X_test[0], cmap=\"gray\")\n",
    "print(\"L'immagine figura un/o %s\" % labels[y_test[0]])"
   ]
  },
  {
   "cell_type": "markdown",
   "metadata": {},
   "source": [
    "Dato che una singola osservazione è una matrice, dobbiamo spacchettare le righe all'interno di un singolo vettore. Per farlo possiamo utilizzare il metodo <span style=\"font-family: Monaco\">reshape</span>."
   ]
  },
  {
   "cell_type": "code",
   "execution_count": 5,
   "metadata": {},
   "outputs": [
    {
     "data": {
      "text/plain": [
       "(60000, 784)"
      ]
     },
     "execution_count": 5,
     "metadata": {},
     "output_type": "execute_result"
    }
   ],
   "source": [
    "X_train = X_train.reshape(X_train.shape[0],28*28)\n",
    "X_test = X_test.reshape(X_test.shape[0],28*28)\n",
    "\n",
    "X_train.shape"
   ]
  },
  {
   "cell_type": "markdown",
   "metadata": {},
   "source": [
    "Ogni pixel dell'immagine ha un valore che va da 0 a 255, eseguiamo la normalizzazione per ridurre questi valori in una scala da 0.0 a 1.0."
   ]
  },
  {
   "cell_type": "code",
   "execution_count": 6,
   "metadata": {},
   "outputs": [
    {
     "name": "stdout",
     "output_type": "stream",
     "text": [
      "Prima della normalizzazione\n",
      "Valore massimo: 255\n",
      "Dopo la normalizzazione\n",
      "Valore massimo: 1\n"
     ]
    }
   ],
   "source": [
    "print(\"Prima della normalizzazione\")\n",
    "print(\"Valore massimo: %d\" % X_train.max())\n",
    "\n",
    "X_train = X_train/255\n",
    "X_test = X_test/255\n",
    "\n",
    "print(\"Dopo la normalizzazione\")\n",
    "print(\"Valore massimo: %d\" % X_train.max())"
   ]
  },
  {
   "cell_type": "markdown",
   "metadata": {},
   "source": [
    "Passiamo agli array con i target, questi contengono un valore numerico che va da 0 a 9, il quale rappresenta la categoria di appartenenza dell'articolo raffigurato nell'immagine, tra quelle elencate sopra.<br>\n",
    "Per poter eseguire una classificazione multiclasse dobbiamo creare 10 variabili dummy per ogni osservazione, una per ogni classe. Possiamo farlo utilizzando la funzione <span style=\"font-family: Monaco\">to_categorical</span> di Keras.\n",
    "Ciò viene fatto perchè essendo una classificazione multiclasse si una come funzione di attivazione del nodo di output la funzione softmax."
   ]
  },
  {
   "cell_type": "code",
   "execution_count": 7,
   "metadata": {},
   "outputs": [],
   "source": [
    "from keras.utils import to_categorical\n",
    "\n",
    "num_classes=10\n",
    "\n",
    "y_train_dummy = to_categorical(y_train, num_classes)\n",
    "y_test_dummy = to_categorical(y_test, num_classes)"
   ]
  },
  {
   "cell_type": "markdown",
   "metadata": {},
   "source": [
    "## Full batch Gradient Descent\n",
    "Cominciamo dal Full batch Gradient Descent. Per prima cosa creiamo il modello, possiamo utilizzare la stessa architettura che abbiamo utilizzato in un notebook precedente per il MNIST."
   ]
  },
  {
   "cell_type": "code",
   "execution_count": 8,
   "metadata": {},
   "outputs": [],
   "source": [
    "#set_seed(0) # per poter riprodurre i miei risultati\n",
    "\n",
    "model = Sequential()\n",
    "model.add(Dense(512, activation='relu', input_dim=X_train.shape[1]))\n",
    "model.add(Dense(256, activation='relu'))\n",
    "model.add(Dense(128, activation='relu'))\n",
    "model.add(Dense(num_classes, activation='softmax'))"
   ]
  },
  {
   "cell_type": "markdown",
   "metadata": {},
   "source": [
    "Diamo uno sguardo al numero totale di parametri che il Full Batch Gradient Descent dovrà ottimizzare."
   ]
  },
  {
   "cell_type": "code",
   "execution_count": 9,
   "metadata": {},
   "outputs": [
    {
     "name": "stdout",
     "output_type": "stream",
     "text": [
      "Model: \"sequential\"\n",
      "_________________________________________________________________\n",
      " Layer (type)                Output Shape              Param #   \n",
      "=================================================================\n",
      " dense (Dense)               (None, 512)               401920    \n",
      "                                                                 \n",
      " dense_1 (Dense)             (None, 256)               131328    \n",
      "                                                                 \n",
      " dense_2 (Dense)             (None, 128)               32896     \n",
      "                                                                 \n",
      " dense_3 (Dense)             (None, 10)                1290      \n",
      "                                                                 \n",
      "=================================================================\n",
      "Total params: 567434 (2.16 MB)\n",
      "Trainable params: 567434 (2.16 MB)\n",
      "Non-trainable params: 0 (0.00 Byte)\n",
      "_________________________________________________________________\n"
     ]
    }
   ],
   "source": [
    "model.summary()"
   ]
  },
  {
   "cell_type": "markdown",
   "metadata": {},
   "source": [
    "Sono oltre mezzo milione, diposti su 3 strati. Prepariamo il modello per l'addestramento con il metodo <span style=\"font-family: Monaco\">compile</span>, come ottimizzatore specifichiamo sempre lo stochastic gradient descent (si, lo so che il nostro scopo è utilizzare il full batch, ma fidati di me :) )"
   ]
  },
  {
   "cell_type": "code",
   "execution_count": 10,
   "metadata": {},
   "outputs": [],
   "source": [
    "model.compile(loss='categorical_crossentropy', optimizer='sgd', metrics=['accuracy'])"
   ]
  },
  {
   "cell_type": "markdown",
   "metadata": {},
   "source": [
    "Adesso, per utilizzare il full batch gradient descent, non dobbiamo far altro che specificare all'interno del metodo  <span style=\"font-family: Monaco\">fit</span> che la dimensione di un batch deve essere pari al numero di osservazioni nel set di addestramento, in tal modo l'algoritmo di ottimizzazione utilizzerà un unico batch con tutte le osservazioni ad ogni iterazione del gradient descent.\n",
    "<br>\n",
    "Per poter costruire un grafico della funzione di costo ad ogni epoca dobbiamo tener traccia di questi valori, per farlo dobbiamo definire un callback."
   ]
  },
  {
   "cell_type": "code",
   "execution_count": 11,
   "metadata": {},
   "outputs": [
    {
     "name": "stdout",
     "output_type": "stream",
     "text": [
      "Epoch 1/10\n",
      "1/1 [==============================] - 4s 4s/step - loss: 2.3759 - accuracy: 0.0701\n",
      "Epoch 2/10\n",
      "1/1 [==============================] - 2s 2s/step - loss: 2.3481 - accuracy: 0.0821\n",
      "Epoch 3/10\n",
      "1/1 [==============================] - 2s 2s/step - loss: 2.3229 - accuracy: 0.0941\n",
      "Epoch 4/10\n",
      "1/1 [==============================] - 2s 2s/step - loss: 2.2998 - accuracy: 0.1056\n",
      "Epoch 5/10\n",
      "1/1 [==============================] - 2s 2s/step - loss: 2.2784 - accuracy: 0.1166\n",
      "Epoch 6/10\n",
      "1/1 [==============================] - 2s 2s/step - loss: 2.2584 - accuracy: 0.1276\n",
      "Epoch 7/10\n",
      "1/1 [==============================] - 2s 2s/step - loss: 2.2395 - accuracy: 0.1392\n",
      "Epoch 8/10\n",
      "1/1 [==============================] - 2s 2s/step - loss: 2.2216 - accuracy: 0.1507\n",
      "Epoch 9/10\n",
      "1/1 [==============================] - 2s 2s/step - loss: 2.2046 - accuracy: 0.1641\n",
      "Epoch 10/10\n",
      "1/1 [==============================] - 1s 1s/step - loss: 2.1883 - accuracy: 0.1805\n",
      "Tempo di addestramento: 0 minuti e 21 secondi\n"
     ]
    }
   ],
   "source": [
    "# history serve per memorizzare i valori di addestramento così da poterli usare per tracciarne il grafico\n",
    "from keras.callbacks import History \n",
    "history = History()\n",
    "\n",
    "#loss: 2.0902 - acc: 0.3302\n",
    "\n",
    "#batch size indica il numero di esempi che prende la rete per eseguire il gradient descent ad ogni step\n",
    "\n",
    "# time mi dice quanto tempo impiega la rete per addestrarsi\n",
    "start_at = time()\n",
    "model.fit(X_train, y_train_dummy, epochs=10, batch_size=X_train.shape[0], callbacks=[history])\n",
    "exec_time = time() - start_at\n",
    "\n",
    "print(\"Tempo di addestramento: %d minuti e %d secondi\" % (exec_time/60, exec_time%60))"
   ]
  },
  {
   "cell_type": "markdown",
   "metadata": {},
   "source": [
    "I risultati del modello sono piuttosto scarsi, perché le 100 epoche non erano sufficenti a portare alla convergenza, infatti con ulteriori epoche il modello avrebbe continuato a migliorare.\n",
    "<br>\n",
    "Utilizziamo i valori della funzione di costo raccolti per visualizzare la sua variazione a ogni epoche su di un grafico."
   ]
  },
  {
   "cell_type": "code",
   "execution_count": 13,
   "metadata": {},
   "outputs": [
    {
     "data": {
      "text/plain": [
       "[<matplotlib.lines.Line2D at 0x29ab6f4a250>]"
      ]
     },
     "execution_count": 13,
     "metadata": {},
     "output_type": "execute_result"
    },
    {
     "data": {
      "image/png": "[encoded data removed]",
      "text/plain": [
       "<Figure size 1400x1000 with 1 Axes>"
      ]
     },
     "metadata": {},
     "output_type": "display_data"
    }
   ],
   "source": [
    "plt.figure(figsize=(14,10))\n",
    "plt.title(\"Full Batch Gradient Descent\")\n",
    "plt.xlabel(\"Epoca\")\n",
    "plt.ylabel(\"Log-Loss\")\n",
    "plt.plot(history.history['loss'])\n",
    "\n",
    "#come si puo notare, la funzione di costo non ha oscillazioni, ma è sempre decrescente"
   ]
  },
  {
   "cell_type": "markdown",
   "metadata": {},
   "source": [
    "Come possiamo osservare, l'errore del modello si è ridotto in maniera abbastanza pulita senza oscillazioni."
   ]
  },
  {
   "cell_type": "markdown",
   "metadata": {},
   "source": [
    "## Stochastic Gradient Descent\n",
    "Passiamo adesso all'estremo opposto del Gradient Descent: lo Stochastic Gradient Descent.<br>\n",
    "Cominciamo ricostruendo lo stesso modello."
   ]
  },
  {
   "cell_type": "code",
   "execution_count": 14,
   "metadata": {},
   "outputs": [],
   "source": [
    "model = Sequential()\n",
    "model.add(Dense(512, activation='relu', input_dim=X_train.shape[1]))\n",
    "model.add(Dense(256, activation='relu'))\n",
    "model.add(Dense(128, activation='relu'))\n",
    "model.add(Dense(num_classes, activation='softmax'))"
   ]
  },
  {
   "cell_type": "markdown",
   "metadata": {},
   "source": [
    "Perché abbiamo dovuto ridefinire di nuovo lo stesso modello di prima ? Perché altrimenti, chiamando il metodo <span style=\"font-family: Monaco\">fit</span> l'addestramento sarebbe ripartito da dove si era fermato all'esecuzione precedente, continuando a ottimizzare i coefficienti che già aveva trovato.\n",
    "<br>\n",
    "<br>\n",
    "Compiliamo il modello, esattamente come fatto prima."
   ]
  },
  {
   "cell_type": "code",
   "execution_count": 15,
   "metadata": {},
   "outputs": [],
   "source": [
    "model.compile(loss='categorical_crossentropy', optimizer='sgd', metrics=['accuracy'])"
   ]
  },
  {
   "cell_type": "markdown",
   "metadata": {},
   "source": [
    "Adesso, per utilizzare lo Stochastic Gradient Descent, impostiamo come dimensione del singolo batch 1, in modo tale da far utilizzare all'algoritmo di ottimizzazione un esempio per volta. Facendo questo il gradient descent ad ogni epoca viene eseguito un numero di volte pari al numero di esempi nel set di addestramento (nel nostro caso 60.000), ne segue che il completamento di un'epoca richiederà molto più tempo rispetto al full batch. Per questo motivo impostiamo il numero di epoche a 5."
   ]
  },
  {
   "cell_type": "code",
   "execution_count": 16,
   "metadata": {},
   "outputs": [
    {
     "name": "stdout",
     "output_type": "stream",
     "text": [
      "Epoch 1/3\n",
      "60000/60000 [==============================] - 303s 5ms/step - loss: 0.5091 - accuracy: 0.8125\n",
      "Epoch 2/3\n",
      "60000/60000 [==============================] - 251s 4ms/step - loss: 0.3859 - accuracy: 0.8579\n",
      "Epoch 3/3\n",
      "60000/60000 [==============================] - 223s 4ms/step - loss: 0.3491 - accuracy: 0.8702\n",
      "Tempo di addestramento: 12 minuti e 58 secondi\n"
     ]
    }
   ],
   "source": [
    "start_at = time()\n",
    "model.fit(X_train, y_train_dummy, epochs=3, batch_size=1)\n",
    "exec_time = time() - start_at\n",
    "\n",
    "print(\"Tempo di addestramento: %d minuti e %d secondi\" % (exec_time/60, exec_time%60))"
   ]
  },
  {
   "cell_type": "markdown",
   "metadata": {},
   "source": [
    "Nel mio caso, l'esecuzione di 5 epoche di stochastic gradient descent ha richiesto 4 volte il tempo del full batch, ma l'addestramento si è concluso con un risultato decisamente migliore."
   ]
  },
  {
   "cell_type": "markdown",
   "metadata": {},
   "source": [
    "## Mini Batch Gradient Descent\n",
    "Completiamo eseguendo la versione intermedia del Gradient Descent e anche quella più consigliata da utilizzare: il Mini Batch Gradient Descent.\n",
    "<br>\n",
    "Ricreiamo il modello e compiliamolo."
   ]
  },
  {
   "cell_type": "code",
   "execution_count": 17,
   "metadata": {},
   "outputs": [],
   "source": [
    "model = Sequential()\n",
    "model.add(Dense(512, activation='relu', input_dim=X_train.shape[1]))\n",
    "model.add(Dense(256, activation='relu'))\n",
    "model.add(Dense(128, activation='relu'))\n",
    "model.add(Dense(num_classes, activation='softmax'))"
   ]
  },
  {
   "cell_type": "code",
   "execution_count": 18,
   "metadata": {},
   "outputs": [],
   "source": [
    "model.compile(loss='categorical_crossentropy', optimizer='sgd', metrics=['accuracy'])"
   ]
  },
  {
   "cell_type": "markdown",
   "metadata": {},
   "source": [
    "E adesso specifichiamo all'interno del metodo <span style=\"font-family: Monaco\">fit</span> la dimensione di ogni batch, i valori consigliati sono 32, 64, 128, 256 e 512.<br>\n",
    "Optiamo per 512."
   ]
  },
  {
   "cell_type": "code",
   "execution_count": 22,
   "metadata": {},
   "outputs": [
    {
     "name": "stdout",
     "output_type": "stream",
     "text": [
      "Epoch 1/100\n",
      "118/118 [==============================] - 3s 22ms/step - loss: 0.2997 - accuracy: 0.8933\n",
      "Epoch 2/100\n",
      "118/118 [==============================] - 3s 22ms/step - loss: 0.2983 - accuracy: 0.8953\n",
      "Epoch 3/100\n",
      "118/118 [==============================] - 3s 25ms/step - loss: 0.2981 - accuracy: 0.8951\n",
      "Epoch 4/100\n",
      "118/118 [==============================] - 2s 20ms/step - loss: 0.2969 - accuracy: 0.8960\n",
      "Epoch 5/100\n",
      "118/118 [==============================] - 3s 24ms/step - loss: 0.2969 - accuracy: 0.8964\n",
      "Epoch 6/100\n",
      "118/118 [==============================] - 3s 25ms/step - loss: 0.2939 - accuracy: 0.8969\n",
      "Epoch 7/100\n",
      "118/118 [==============================] - 3s 22ms/step - loss: 0.2954 - accuracy: 0.8953\n",
      "Epoch 8/100\n",
      "118/118 [==============================] - 3s 25ms/step - loss: 0.2951 - accuracy: 0.8963\n",
      "Epoch 9/100\n",
      "118/118 [==============================] - 3s 26ms/step - loss: 0.2932 - accuracy: 0.8965\n",
      "Epoch 10/100\n",
      "118/118 [==============================] - 3s 22ms/step - loss: 0.2934 - accuracy: 0.8964\n",
      "Epoch 11/100\n",
      "118/118 [==============================] - 3s 21ms/step - loss: 0.2916 - accuracy: 0.8972\n",
      "Epoch 12/100\n",
      "118/118 [==============================] - 3s 22ms/step - loss: 0.2928 - accuracy: 0.8967\n",
      "Epoch 13/100\n",
      "118/118 [==============================] - 3s 22ms/step - loss: 0.2896 - accuracy: 0.8971\n",
      "Epoch 14/100\n",
      "118/118 [==============================] - 3s 23ms/step - loss: 0.2909 - accuracy: 0.8964\n",
      "Epoch 15/100\n",
      "118/118 [==============================] - 3s 25ms/step - loss: 0.2871 - accuracy: 0.8985\n",
      "Epoch 16/100\n",
      "118/118 [==============================] - 3s 26ms/step - loss: 0.2857 - accuracy: 0.8987\n",
      "Epoch 17/100\n",
      "118/118 [==============================] - 3s 24ms/step - loss: 0.2872 - accuracy: 0.8978\n",
      "Epoch 18/100\n",
      "118/118 [==============================] - 3s 26ms/step - loss: 0.2852 - accuracy: 0.8985\n",
      "Epoch 19/100\n",
      "118/118 [==============================] - 3s 27ms/step - loss: 0.2842 - accuracy: 0.8995\n",
      "Epoch 20/100\n",
      "118/118 [==============================] - 3s 26ms/step - loss: 0.2837 - accuracy: 0.8993\n",
      "Epoch 21/100\n",
      "118/118 [==============================] - 3s 25ms/step - loss: 0.2805 - accuracy: 0.9006\n",
      "Epoch 22/100\n",
      "118/118 [==============================] - 3s 24ms/step - loss: 0.2811 - accuracy: 0.9009\n",
      "Epoch 23/100\n",
      "118/118 [==============================] - 3s 25ms/step - loss: 0.2828 - accuracy: 0.8995\n",
      "Epoch 24/100\n",
      "118/118 [==============================] - 3s 26ms/step - loss: 0.2787 - accuracy: 0.9011\n",
      "Epoch 25/100\n",
      "118/118 [==============================] - 3s 25ms/step - loss: 0.2783 - accuracy: 0.9014\n",
      "Epoch 26/100\n",
      "118/118 [==============================] - 3s 23ms/step - loss: 0.2825 - accuracy: 0.8995\n",
      "Epoch 27/100\n",
      "118/118 [==============================] - 3s 26ms/step - loss: 0.2771 - accuracy: 0.9020\n",
      "Epoch 28/100\n",
      "118/118 [==============================] - 3s 27ms/step - loss: 0.2787 - accuracy: 0.9009\n",
      "Epoch 29/100\n",
      "118/118 [==============================] - 4s 37ms/step - loss: 0.2744 - accuracy: 0.9027\n",
      "Epoch 30/100\n",
      "118/118 [==============================] - 3s 29ms/step - loss: 0.2763 - accuracy: 0.9013\n",
      "Epoch 31/100\n",
      "118/118 [==============================] - 3s 26ms/step - loss: 0.2746 - accuracy: 0.9030\n",
      "Epoch 32/100\n",
      "118/118 [==============================] - 3s 28ms/step - loss: 0.2713 - accuracy: 0.9046\n",
      "Epoch 33/100\n",
      "118/118 [==============================] - 3s 24ms/step - loss: 0.2734 - accuracy: 0.9029\n",
      "Epoch 34/100\n",
      "118/118 [==============================] - 3s 27ms/step - loss: 0.2727 - accuracy: 0.9036\n",
      "Epoch 35/100\n",
      "118/118 [==============================] - 3s 26ms/step - loss: 0.2723 - accuracy: 0.9032\n",
      "Epoch 36/100\n",
      "118/118 [==============================] - 3s 23ms/step - loss: 0.2702 - accuracy: 0.9043\n",
      "Epoch 37/100\n",
      "118/118 [==============================] - 3s 22ms/step - loss: 0.2722 - accuracy: 0.9039\n",
      "Epoch 38/100\n",
      "118/118 [==============================] - 3s 25ms/step - loss: 0.2667 - accuracy: 0.9059\n",
      "Epoch 39/100\n",
      "118/118 [==============================] - 3s 26ms/step - loss: 0.2677 - accuracy: 0.9050\n",
      "Epoch 40/100\n",
      "118/118 [==============================] - 3s 23ms/step - loss: 0.2693 - accuracy: 0.9043\n",
      "Epoch 41/100\n",
      "118/118 [==============================] - 3s 22ms/step - loss: 0.2662 - accuracy: 0.9062\n",
      "Epoch 42/100\n",
      "118/118 [==============================] - 2s 19ms/step - loss: 0.2633 - accuracy: 0.9066\n",
      "Epoch 43/100\n",
      "118/118 [==============================] - 2s 19ms/step - loss: 0.2663 - accuracy: 0.9057\n",
      "Epoch 44/100\n",
      "118/118 [==============================] - 2s 21ms/step - loss: 0.2655 - accuracy: 0.9065\n",
      "Epoch 45/100\n",
      "118/118 [==============================] - 2s 20ms/step - loss: 0.2638 - accuracy: 0.9055\n",
      "Epoch 46/100\n",
      "118/118 [==============================] - 3s 26ms/step - loss: 0.2628 - accuracy: 0.9067\n",
      "Epoch 47/100\n",
      "118/118 [==============================] - 2s 21ms/step - loss: 0.2615 - accuracy: 0.9072\n",
      "Epoch 48/100\n",
      "118/118 [==============================] - 3s 26ms/step - loss: 0.2603 - accuracy: 0.9083\n",
      "Epoch 49/100\n",
      "118/118 [==============================] - 3s 27ms/step - loss: 0.2591 - accuracy: 0.9077\n",
      "Epoch 50/100\n",
      "118/118 [==============================] - 3s 27ms/step - loss: 0.2584 - accuracy: 0.9086\n",
      "Epoch 51/100\n",
      "118/118 [==============================] - 3s 24ms/step - loss: 0.2590 - accuracy: 0.9079\n",
      "Epoch 52/100\n",
      "118/118 [==============================] - 3s 22ms/step - loss: 0.2575 - accuracy: 0.9091\n",
      "Epoch 53/100\n",
      "118/118 [==============================] - 3s 23ms/step - loss: 0.2605 - accuracy: 0.9076\n",
      "Epoch 54/100\n",
      "118/118 [==============================] - 3s 27ms/step - loss: 0.2567 - accuracy: 0.9089\n",
      "Epoch 55/100\n",
      "118/118 [==============================] - 3s 26ms/step - loss: 0.2548 - accuracy: 0.9100\n",
      "Epoch 56/100\n",
      "118/118 [==============================] - 3s 24ms/step - loss: 0.2552 - accuracy: 0.9102\n",
      "Epoch 57/100\n",
      "118/118 [==============================] - 3s 26ms/step - loss: 0.2561 - accuracy: 0.9093\n",
      "Epoch 58/100\n",
      "118/118 [==============================] - 3s 25ms/step - loss: 0.2534 - accuracy: 0.9101\n",
      "Epoch 59/100\n",
      "118/118 [==============================] - 3s 23ms/step - loss: 0.2535 - accuracy: 0.9110\n",
      "Epoch 60/100\n",
      "118/118 [==============================] - 3s 22ms/step - loss: 0.2537 - accuracy: 0.9114\n",
      "Epoch 61/100\n",
      "118/118 [==============================] - 2s 20ms/step - loss: 0.2524 - accuracy: 0.9108\n",
      "Epoch 62/100\n",
      "118/118 [==============================] - 2s 20ms/step - loss: 0.2479 - accuracy: 0.9125\n",
      "Epoch 63/100\n",
      "118/118 [==============================] - 2s 18ms/step - loss: 0.2526 - accuracy: 0.9107\n",
      "Epoch 64/100\n",
      "118/118 [==============================] - 3s 21ms/step - loss: 0.2487 - accuracy: 0.9121\n",
      "Epoch 65/100\n",
      "118/118 [==============================] - 3s 25ms/step - loss: 0.2482 - accuracy: 0.9129\n",
      "Epoch 66/100\n",
      "118/118 [==============================] - 3s 22ms/step - loss: 0.2484 - accuracy: 0.9117\n",
      "Epoch 67/100\n",
      "118/118 [==============================] - 3s 24ms/step - loss: 0.2474 - accuracy: 0.9128\n",
      "Epoch 68/100\n",
      "118/118 [==============================] - 3s 22ms/step - loss: 0.2478 - accuracy: 0.9125\n",
      "Epoch 69/100\n",
      "118/118 [==============================] - 3s 26ms/step - loss: 0.2464 - accuracy: 0.9124\n",
      "Epoch 70/100\n",
      "118/118 [==============================] - 3s 22ms/step - loss: 0.2446 - accuracy: 0.9135\n",
      "Epoch 71/100\n",
      "118/118 [==============================] - 2s 19ms/step - loss: 0.2468 - accuracy: 0.9133\n",
      "Epoch 72/100\n",
      "118/118 [==============================] - 2s 18ms/step - loss: 0.2441 - accuracy: 0.9134\n",
      "Epoch 73/100\n",
      "118/118 [==============================] - 2s 18ms/step - loss: 0.2411 - accuracy: 0.9154\n",
      "Epoch 74/100\n",
      "118/118 [==============================] - 2s 18ms/step - loss: 0.2427 - accuracy: 0.9141\n",
      "Epoch 75/100\n",
      "118/118 [==============================] - 2s 18ms/step - loss: 0.2422 - accuracy: 0.9152\n",
      "Epoch 76/100\n",
      "118/118 [==============================] - 2s 18ms/step - loss: 0.2392 - accuracy: 0.9156\n",
      "Epoch 77/100\n",
      "118/118 [==============================] - 2s 18ms/step - loss: 0.2439 - accuracy: 0.9127\n",
      "Epoch 78/100\n",
      "118/118 [==============================] - 2s 17ms/step - loss: 0.2390 - accuracy: 0.9157\n",
      "Epoch 79/100\n",
      "118/118 [==============================] - 2s 18ms/step - loss: 0.2373 - accuracy: 0.9160\n",
      "Epoch 80/100\n",
      "118/118 [==============================] - 2s 18ms/step - loss: 0.2381 - accuracy: 0.9157\n",
      "Epoch 81/100\n",
      "118/118 [==============================] - 2s 17ms/step - loss: 0.2380 - accuracy: 0.9158\n",
      "Epoch 82/100\n",
      "118/118 [==============================] - 2s 17ms/step - loss: 0.2400 - accuracy: 0.9155\n",
      "Epoch 83/100\n",
      "118/118 [==============================] - 2s 18ms/step - loss: 0.2368 - accuracy: 0.9164\n",
      "Epoch 84/100\n",
      "118/118 [==============================] - 2s 18ms/step - loss: 0.2390 - accuracy: 0.9152\n",
      "Epoch 85/100\n",
      "118/118 [==============================] - 2s 18ms/step - loss: 0.2334 - accuracy: 0.9182\n",
      "Epoch 86/100\n",
      "118/118 [==============================] - 2s 18ms/step - loss: 0.2360 - accuracy: 0.9163\n",
      "Epoch 87/100\n",
      "118/118 [==============================] - 2s 18ms/step - loss: 0.2325 - accuracy: 0.9187\n",
      "Epoch 88/100\n",
      "118/118 [==============================] - 2s 18ms/step - loss: 0.2327 - accuracy: 0.9175\n",
      "Epoch 89/100\n",
      "118/118 [==============================] - 2s 18ms/step - loss: 0.2359 - accuracy: 0.9158\n",
      "Epoch 90/100\n",
      "118/118 [==============================] - 2s 18ms/step - loss: 0.2311 - accuracy: 0.9188\n",
      "Epoch 91/100\n",
      "118/118 [==============================] - 2s 18ms/step - loss: 0.2324 - accuracy: 0.9182\n",
      "Epoch 92/100\n",
      "118/118 [==============================] - 2s 18ms/step - loss: 0.2284 - accuracy: 0.9198\n",
      "Epoch 93/100\n",
      "118/118 [==============================] - 2s 18ms/step - loss: 0.2332 - accuracy: 0.9180\n",
      "Epoch 94/100\n",
      "118/118 [==============================] - 2s 18ms/step - loss: 0.2298 - accuracy: 0.9191\n",
      "Epoch 95/100\n",
      "118/118 [==============================] - 2s 18ms/step - loss: 0.2320 - accuracy: 0.9175\n",
      "Epoch 96/100\n",
      "118/118 [==============================] - 2s 19ms/step - loss: 0.2286 - accuracy: 0.9192\n",
      "Epoch 97/100\n",
      "118/118 [==============================] - 2s 19ms/step - loss: 0.2268 - accuracy: 0.9203\n",
      "Epoch 98/100\n",
      "118/118 [==============================] - 2s 19ms/step - loss: 0.2239 - accuracy: 0.9209\n",
      "Epoch 99/100\n",
      "118/118 [==============================] - 2s 19ms/step - loss: 0.2257 - accuracy: 0.9203\n",
      "Epoch 100/100\n",
      "118/118 [==============================] - 2s 18ms/step - loss: 0.2286 - accuracy: 0.9191\n",
      "Tempo di addestramento: 4 minuti e 23 secondi\n"
     ]
    }
   ],
   "source": [
    "from keras.callbacks import History \n",
    "history = History()\n",
    "\n",
    "start_at = time()\n",
    "model.fit(X_train, y_train_dummy, epochs=100, batch_size=512, callbacks=[history])\n",
    "exec_time = time() - start_at\n",
    "\n",
    "print(\"Tempo di addestramento: %d minuti e %d secondi\" % (exec_time/60, exec_time%60))"
   ]
  },
  {
   "cell_type": "markdown",
   "metadata": {},
   "source": [
    "Il mini batch con un batch size di 512 ha richiesto poco più tempo del full batch e ha portato a un risultato finale decisamente migliore.\n",
    "Visualizziamo la variazione dell'errore ad ogni epoca."
   ]
  },
  {
   "cell_type": "code",
   "execution_count": 20,
   "metadata": {},
   "outputs": [
    {
     "data": {
      "text/plain": [
       "[<matplotlib.lines.Line2D at 0x29ad7ea9390>]"
      ]
     },
     "execution_count": 20,
     "metadata": {},
     "output_type": "execute_result"
    },
    {
     "data": {
      "image/png": "[encoded data removed]",
      "text/plain": [
       "<Figure size 1400x1000 with 1 Axes>"
      ]
     },
     "metadata": {},
     "output_type": "display_data"
    }
   ],
   "source": [
    "plt.figure(figsize=(14,10))\n",
    "plt.title(\"Mini Batch Gradient Descent - Batch size = 512\")\n",
    "plt.xlabel(\"Epoca\")\n",
    "plt.ylabel(\"Log-Loss\")\n",
    "plt.plot(history.history['loss'])"
   ]
  },
  {
   "cell_type": "markdown",
   "metadata": {},
   "source": [
    "Come vedi l'errore si è ridotto molto in fretta durante le prime 10 epoche, dopodichè ha continuato a migliorare più lentamento oscillando leggermente."
   ]
  },
  {
   "cell_type": "markdown",
   "metadata": {},
   "source": [
    "## Mini batch gradient descent con momentum"
   ]
  },
  {
   "cell_type": "code",
   "execution_count": 23,
   "metadata": {},
   "outputs": [],
   "source": [
    "model = Sequential()\n",
    "model.add(Dense(512, activation='relu', input_dim=X_train.shape[1]))\n",
    "model.add(Dense(256, activation='relu'))\n",
    "model.add(Dense(128, activation='relu'))\n",
    "model.add(Dense(num_classes, activation='softmax'))"
   ]
  },
  {
   "cell_type": "code",
   "execution_count": 24,
   "metadata": {},
   "outputs": [],
   "source": [
    "from keras import optimizers\n",
    "\n",
    "sgd = optimizers.SGD(momentum=0.9)\n",
    "\n",
    "model.compile(loss='categorical_crossentropy', optimizer=sgd, metrics=['accuracy'])"
   ]
  },
  {
   "cell_type": "code",
   "execution_count": 25,
   "metadata": {},
   "outputs": [
    {
     "name": "stdout",
     "output_type": "stream",
     "text": [
      "Epoch 1/100\n",
      "118/118 [==============================] - 4s 26ms/step - loss: 0.9240 - accuracy: 0.6899\n",
      "Epoch 2/100\n",
      "118/118 [==============================] - 3s 24ms/step - loss: 0.5069 - accuracy: 0.8249\n",
      "Epoch 3/100\n",
      "118/118 [==============================] - 2s 20ms/step - loss: 0.4477 - accuracy: 0.8435\n",
      "Epoch 4/100\n",
      "118/118 [==============================] - 3s 22ms/step - loss: 0.4169 - accuracy: 0.8541\n",
      "Epoch 5/100\n",
      "118/118 [==============================] - 2s 19ms/step - loss: 0.3972 - accuracy: 0.8605\n",
      "Epoch 6/100\n",
      "118/118 [==============================] - 2s 16ms/step - loss: 0.3769 - accuracy: 0.8680\n",
      "Epoch 7/100\n",
      "118/118 [==============================] - 2s 17ms/step - loss: 0.3682 - accuracy: 0.8696\n",
      "Epoch 8/100\n",
      "118/118 [==============================] - 2s 19ms/step - loss: 0.3522 - accuracy: 0.8752\n",
      "Epoch 9/100\n",
      "118/118 [==============================] - 3s 23ms/step - loss: 0.3432 - accuracy: 0.8787\n",
      "Epoch 10/100\n",
      "118/118 [==============================] - 2s 19ms/step - loss: 0.3318 - accuracy: 0.8821\n",
      "Epoch 11/100\n",
      "118/118 [==============================] - 3s 22ms/step - loss: 0.3217 - accuracy: 0.8847\n",
      "Epoch 12/100\n",
      "118/118 [==============================] - 3s 22ms/step - loss: 0.3166 - accuracy: 0.8871\n",
      "Epoch 13/100\n",
      "118/118 [==============================] - 2s 19ms/step - loss: 0.3051 - accuracy: 0.8911\n",
      "Epoch 14/100\n",
      "118/118 [==============================] - 3s 23ms/step - loss: 0.3028 - accuracy: 0.8906\n",
      "Epoch 15/100\n",
      "118/118 [==============================] - 3s 22ms/step - loss: 0.2953 - accuracy: 0.8930\n",
      "Epoch 16/100\n",
      "118/118 [==============================] - 2s 21ms/step - loss: 0.2846 - accuracy: 0.8970\n",
      "Epoch 17/100\n",
      "118/118 [==============================] - 4s 32ms/step - loss: 0.2813 - accuracy: 0.8993\n",
      "Epoch 18/100\n",
      "118/118 [==============================] - 4s 32ms/step - loss: 0.2747 - accuracy: 0.8997\n",
      "Epoch 19/100\n",
      "118/118 [==============================] - 3s 22ms/step - loss: 0.2673 - accuracy: 0.9031\n",
      "Epoch 20/100\n",
      "118/118 [==============================] - 3s 23ms/step - loss: 0.2618 - accuracy: 0.9049\n",
      "Epoch 21/100\n",
      "118/118 [==============================] - 3s 21ms/step - loss: 0.2544 - accuracy: 0.9080\n",
      "Epoch 22/100\n",
      "118/118 [==============================] - 3s 24ms/step - loss: 0.2535 - accuracy: 0.9082\n",
      "Epoch 23/100\n",
      "118/118 [==============================] - 3s 22ms/step - loss: 0.2448 - accuracy: 0.9119\n",
      "Epoch 24/100\n",
      "118/118 [==============================] - 2s 21ms/step - loss: 0.2396 - accuracy: 0.9140\n",
      "Epoch 25/100\n",
      "118/118 [==============================] - 2s 20ms/step - loss: 0.2388 - accuracy: 0.9140\n",
      "Epoch 26/100\n",
      "118/118 [==============================] - 2s 20ms/step - loss: 0.2365 - accuracy: 0.9146\n",
      "Epoch 27/100\n",
      "118/118 [==============================] - 2s 20ms/step - loss: 0.2307 - accuracy: 0.9168\n",
      "Epoch 28/100\n",
      "118/118 [==============================] - 2s 20ms/step - loss: 0.2213 - accuracy: 0.9211\n",
      "Epoch 29/100\n",
      "118/118 [==============================] - 2s 21ms/step - loss: 0.2190 - accuracy: 0.9218\n",
      "Epoch 30/100\n",
      "118/118 [==============================] - 3s 21ms/step - loss: 0.2149 - accuracy: 0.9223\n",
      "Epoch 31/100\n",
      "118/118 [==============================] - 2s 20ms/step - loss: 0.2144 - accuracy: 0.9222\n",
      "Epoch 32/100\n",
      "118/118 [==============================] - 2s 20ms/step - loss: 0.2055 - accuracy: 0.9259\n",
      "Epoch 33/100\n",
      "118/118 [==============================] - 3s 22ms/step - loss: 0.2011 - accuracy: 0.9278\n",
      "Epoch 34/100\n",
      "118/118 [==============================] - 3s 22ms/step - loss: 0.2023 - accuracy: 0.9268\n",
      "Epoch 35/100\n",
      "118/118 [==============================] - 3s 24ms/step - loss: 0.2018 - accuracy: 0.9272\n",
      "Epoch 36/100\n",
      "118/118 [==============================] - 3s 24ms/step - loss: 0.1922 - accuracy: 0.9312\n",
      "Epoch 37/100\n",
      "118/118 [==============================] - 2s 21ms/step - loss: 0.1930 - accuracy: 0.9299\n",
      "Epoch 38/100\n",
      "118/118 [==============================] - 3s 23ms/step - loss: 0.1912 - accuracy: 0.9299\n",
      "Epoch 39/100\n",
      "118/118 [==============================] - 2s 21ms/step - loss: 0.1834 - accuracy: 0.9343\n",
      "Epoch 40/100\n",
      "118/118 [==============================] - 2s 21ms/step - loss: 0.1777 - accuracy: 0.9362\n",
      "Epoch 41/100\n",
      "118/118 [==============================] - 3s 25ms/step - loss: 0.1803 - accuracy: 0.9345\n",
      "Epoch 42/100\n",
      "118/118 [==============================] - 3s 21ms/step - loss: 0.1744 - accuracy: 0.9372\n",
      "Epoch 43/100\n",
      "118/118 [==============================] - 3s 28ms/step - loss: 0.1700 - accuracy: 0.9391\n",
      "Epoch 44/100\n",
      "118/118 [==============================] - 2s 21ms/step - loss: 0.1675 - accuracy: 0.9393\n",
      "Epoch 45/100\n",
      "118/118 [==============================] - 2s 21ms/step - loss: 0.1621 - accuracy: 0.9417\n",
      "Epoch 46/100\n",
      "118/118 [==============================] - 2s 20ms/step - loss: 0.1617 - accuracy: 0.9417\n",
      "Epoch 47/100\n",
      "118/118 [==============================] - 3s 21ms/step - loss: 0.1584 - accuracy: 0.9435\n",
      "Epoch 48/100\n",
      "118/118 [==============================] - 2s 19ms/step - loss: 0.1548 - accuracy: 0.9438\n",
      "Epoch 49/100\n",
      "118/118 [==============================] - 2s 20ms/step - loss: 0.1487 - accuracy: 0.9473\n",
      "Epoch 50/100\n",
      "118/118 [==============================] - 3s 23ms/step - loss: 0.1438 - accuracy: 0.9477\n",
      "Epoch 51/100\n",
      "118/118 [==============================] - 3s 24ms/step - loss: 0.1470 - accuracy: 0.9470\n",
      "Epoch 52/100\n",
      "118/118 [==============================] - 2s 20ms/step - loss: 0.1420 - accuracy: 0.9498\n",
      "Epoch 53/100\n",
      "118/118 [==============================] - 2s 20ms/step - loss: 0.1355 - accuracy: 0.9513\n",
      "Epoch 54/100\n",
      "118/118 [==============================] - 2s 20ms/step - loss: 0.1400 - accuracy: 0.9501\n",
      "Epoch 55/100\n",
      "118/118 [==============================] - 3s 22ms/step - loss: 0.1343 - accuracy: 0.9521\n",
      "Epoch 56/100\n",
      "118/118 [==============================] - 3s 22ms/step - loss: 0.1290 - accuracy: 0.9543\n",
      "Epoch 57/100\n",
      "118/118 [==============================] - 3s 24ms/step - loss: 0.1280 - accuracy: 0.9541\n",
      "Epoch 58/100\n",
      "118/118 [==============================] - 2s 20ms/step - loss: 0.1255 - accuracy: 0.9551\n",
      "Epoch 59/100\n",
      "118/118 [==============================] - 2s 20ms/step - loss: 0.1229 - accuracy: 0.9569\n",
      "Epoch 60/100\n",
      "118/118 [==============================] - 2s 21ms/step - loss: 0.1164 - accuracy: 0.9594\n",
      "Epoch 61/100\n",
      "118/118 [==============================] - 2s 19ms/step - loss: 0.1231 - accuracy: 0.9562\n",
      "Epoch 62/100\n",
      "118/118 [==============================] - 2s 20ms/step - loss: 0.1163 - accuracy: 0.9592\n",
      "Epoch 63/100\n",
      "118/118 [==============================] - 3s 25ms/step - loss: 0.1152 - accuracy: 0.9587\n",
      "Epoch 64/100\n",
      "118/118 [==============================] - 3s 21ms/step - loss: 0.1202 - accuracy: 0.9571\n",
      "Epoch 65/100\n",
      "118/118 [==============================] - 2s 20ms/step - loss: 0.1089 - accuracy: 0.9611\n",
      "Epoch 66/100\n",
      "118/118 [==============================] - 2s 20ms/step - loss: 0.1058 - accuracy: 0.9627\n",
      "Epoch 67/100\n",
      "118/118 [==============================] - 3s 25ms/step - loss: 0.1032 - accuracy: 0.9635\n",
      "Epoch 68/100\n",
      "118/118 [==============================] - 3s 23ms/step - loss: 0.0976 - accuracy: 0.9667\n",
      "Epoch 69/100\n",
      "118/118 [==============================] - 3s 24ms/step - loss: 0.0965 - accuracy: 0.9659\n",
      "Epoch 70/100\n",
      "118/118 [==============================] - 3s 22ms/step - loss: 0.0924 - accuracy: 0.9677\n",
      "Epoch 71/100\n",
      "118/118 [==============================] - 3s 23ms/step - loss: 0.0932 - accuracy: 0.9674\n",
      "Epoch 72/100\n",
      "118/118 [==============================] - 2s 21ms/step - loss: 0.0949 - accuracy: 0.9666\n",
      "Epoch 73/100\n",
      "118/118 [==============================] - 2s 19ms/step - loss: 0.0916 - accuracy: 0.9688\n",
      "Epoch 74/100\n",
      "118/118 [==============================] - 3s 23ms/step - loss: 0.0957 - accuracy: 0.9657\n",
      "Epoch 75/100\n",
      "118/118 [==============================] - 3s 22ms/step - loss: 0.0891 - accuracy: 0.9685\n",
      "Epoch 76/100\n",
      "118/118 [==============================] - 2s 20ms/step - loss: 0.0887 - accuracy: 0.9688\n",
      "Epoch 77/100\n",
      "118/118 [==============================] - 2s 20ms/step - loss: 0.0855 - accuracy: 0.9701\n",
      "Epoch 78/100\n",
      "118/118 [==============================] - 2s 19ms/step - loss: 0.0845 - accuracy: 0.9712\n",
      "Epoch 79/100\n",
      "118/118 [==============================] - 2s 19ms/step - loss: 0.0784 - accuracy: 0.9733\n",
      "Epoch 80/100\n",
      "118/118 [==============================] - 3s 23ms/step - loss: 0.0764 - accuracy: 0.9737\n",
      "Epoch 81/100\n",
      "118/118 [==============================] - 3s 22ms/step - loss: 0.0722 - accuracy: 0.9755\n",
      "Epoch 82/100\n",
      "118/118 [==============================] - 2s 20ms/step - loss: 0.0719 - accuracy: 0.9752\n",
      "Epoch 83/100\n",
      "118/118 [==============================] - 2s 18ms/step - loss: 0.0715 - accuracy: 0.9758\n",
      "Epoch 84/100\n",
      "118/118 [==============================] - 2s 19ms/step - loss: 0.0670 - accuracy: 0.9773\n",
      "Epoch 85/100\n",
      "118/118 [==============================] - 3s 23ms/step - loss: 0.0885 - accuracy: 0.9684\n",
      "Epoch 86/100\n",
      "118/118 [==============================] - 3s 27ms/step - loss: 0.0715 - accuracy: 0.9759\n",
      "Epoch 87/100\n",
      "118/118 [==============================] - 4s 30ms/step - loss: 0.0641 - accuracy: 0.9777\n",
      "Epoch 88/100\n",
      "118/118 [==============================] - 4s 31ms/step - loss: 0.0749 - accuracy: 0.9734\n",
      "Epoch 89/100\n",
      "118/118 [==============================] - 3s 24ms/step - loss: 0.0645 - accuracy: 0.9783\n",
      "Epoch 90/100\n",
      "118/118 [==============================] - 3s 22ms/step - loss: 0.0571 - accuracy: 0.9815\n",
      "Epoch 91/100\n",
      "118/118 [==============================] - 3s 23ms/step - loss: 0.0547 - accuracy: 0.9818\n",
      "Epoch 92/100\n",
      "118/118 [==============================] - 3s 27ms/step - loss: 0.0578 - accuracy: 0.9807\n",
      "Epoch 93/100\n",
      "118/118 [==============================] - 2s 20ms/step - loss: 0.0616 - accuracy: 0.9790\n",
      "Epoch 94/100\n",
      "118/118 [==============================] - 3s 24ms/step - loss: 0.0567 - accuracy: 0.9808\n",
      "Epoch 95/100\n",
      "118/118 [==============================] - 3s 27ms/step - loss: 0.0600 - accuracy: 0.9787\n",
      "Epoch 96/100\n",
      "118/118 [==============================] - 3s 23ms/step - loss: 0.0649 - accuracy: 0.9776\n",
      "Epoch 97/100\n",
      "118/118 [==============================] - 2s 20ms/step - loss: 0.0570 - accuracy: 0.9795\n",
      "Epoch 98/100\n",
      "118/118 [==============================] - 2s 21ms/step - loss: 0.0587 - accuracy: 0.9793\n",
      "Epoch 99/100\n",
      "118/118 [==============================] - 2s 20ms/step - loss: 0.0573 - accuracy: 0.9800\n",
      "Epoch 100/100\n",
      "118/118 [==============================] - 2s 19ms/step - loss: 0.0503 - accuracy: 0.9826\n",
      "Tempo di addestramento: 4 minuti e 21 secondi\n"
     ]
    }
   ],
   "source": [
    "from keras.callbacks import History \n",
    "history = History()\n",
    "\n",
    "start_at = time()\n",
    "model.fit(X_train, y_train_dummy, epochs=100, batch_size=512, callbacks=[history])\n",
    "exec_time = time() - start_at\n",
    "\n",
    "print(\"Tempo di addestramento: %d minuti e %d secondi\" % (exec_time/60, exec_time%60))"
   ]
  },
  {
   "cell_type": "code",
   "execution_count": 26,
   "metadata": {},
   "outputs": [
    {
     "data": {
      "text/plain": [
       "[<matplotlib.lines.Line2D at 0x29ad8a94050>]"
      ]
     },
     "execution_count": 26,
     "metadata": {},
     "output_type": "execute_result"
    },
    {
     "data": {
      "image/png": "[encoded data removed]",
      "text/plain": [
       "<Figure size 1400x1000 with 1 Axes>"
      ]
     },
     "metadata": {},
     "output_type": "display_data"
    }
   ],
   "source": [
    "plt.figure(figsize=(14,10))\n",
    "plt.title(\"Mini Batch Gradient Descent con momentum - Batch size = 512\")\n",
    "plt.xlabel(\"Epoca\")\n",
    "plt.ylabel(\"Log-Loss\")\n",
    "plt.plot(history.history['loss'])"
   ]
  }
 ],
 "metadata": {
  "kernelspec": {
   "display_name": "Python 3",
   "language": "python",
   "name": "python3"
  },
  "language_info": {
   "codemirror_mode": {
    "name": "ipython",
    "version": 3
   },
   "file_extension": ".py",
   "mimetype": "text/x-python",
   "name": "python",
   "nbconvert_exporter": "python",
   "pygments_lexer": "ipython3",
   "version": "3.11.0"
  }
 },
 "nbformat": 4,
 "nbformat_minor": 2
}
