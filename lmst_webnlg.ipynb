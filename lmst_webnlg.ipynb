{
 "cells": [
  {
   "cell_type": "code",
   "execution_count": 1,
   "metadata": {},
   "outputs": [],
   "source": [
    "import pandas as pd"
   ]
  },
  {
   "cell_type": "code",
   "execution_count": 2,
   "metadata": {},
   "outputs": [],
   "source": [
    "from keras.preprocessing.text import Tokenizer\n",
    "tokenizer = Tokenizer()\n",
    "\n",
    "def pre_process(X):\n",
    "    X = X.str.split('|').str.join('')\n",
    "\n",
    "    tokenizer.fit_on_texts(X)\n",
    "    X_sequences = tokenizer.texts_to_sequences(X)\n",
    "\n",
    "    return X_sequences"
   ]
  },
  {
   "cell_type": "code",
   "execution_count": 3,
   "metadata": {},
   "outputs": [
    {
     "data": {
      "text/plain": [
       "((354, 2), (45, 2), (73, 2))"
      ]
     },
     "execution_count": 3,
     "metadata": {},
     "output_type": "execute_result"
    }
   ],
   "source": [
    "train = pd.read_csv('datasets/train.csv')\n",
    "dev = pd.read_csv('datasets/dev.csv')\n",
    "test = pd.read_csv('datasets/test.csv')\n",
    "\n",
    "#get only 3% of the data\n",
    "train = train.sample(frac=0.01)\n",
    "dev = dev.sample(frac=0.01)\n",
    "test = test.sample(frac=0.01)\n",
    "\n",
    "train.shape, dev.shape, test.shape"
   ]
  },
  {
   "cell_type": "code",
   "execution_count": 4,
   "metadata": {},
   "outputs": [],
   "source": [
    "X_train, y_train = train['triple'], train['sentence']\n",
    "X_dev, y_dev = dev['triple'], dev['sentence']\n",
    "X_test, y_test = test['triple'], test['sentence']"
   ]
  },
  {
   "cell_type": "code",
   "execution_count": 5,
   "metadata": {},
   "outputs": [
    {
     "name": "stderr",
     "output_type": "stream",
     "text": [
      "C:\\Users\\OliverioM\\AppData\\Local\\Temp\\ipykernel_11564\\2847934886.py:2: FutureWarning: The series.append method is deprecated and will be removed from pandas in a future version. Use pandas.concat instead.\n",
      "  X_train = X_train.append(X_dev)\n",
      "C:\\Users\\OliverioM\\AppData\\Local\\Temp\\ipykernel_11564\\2847934886.py:3: FutureWarning: The series.append method is deprecated and will be removed from pandas in a future version. Use pandas.concat instead.\n",
      "  y_train = y_train.append(y_dev)\n"
     ]
    }
   ],
   "source": [
    "#add X_dev to X_train\n",
    "X_train = X_train.append(X_dev)\n",
    "y_train = y_train.append(y_dev)"
   ]
  },
  {
   "cell_type": "code",
   "execution_count": 6,
   "metadata": {},
   "outputs": [],
   "source": [
    "X_train = pre_process(X_train)\n",
    "X_test = pre_process(X_test)\n",
    "y_train = pre_process(y_train)\n",
    "y_test = pre_process(y_test)"
   ]
  },
  {
   "cell_type": "code",
   "execution_count": 7,
   "metadata": {},
   "outputs": [
    {
     "name": "stdout",
     "output_type": "stream",
     "text": [
      "Found 3029 unique tokens.\n"
     ]
    }
   ],
   "source": [
    "word_index = tokenizer.word_index\n",
    "vocab_size = len(word_index) + 1\n",
    "print('Found %s unique tokens.' % len(word_index))"
   ]
  },
  {
   "cell_type": "code",
   "execution_count": 8,
   "metadata": {},
   "outputs": [
    {
     "data": {
      "text/plain": [
       "(399, 100)"
      ]
     },
     "execution_count": 8,
     "metadata": {},
     "output_type": "execute_result"
    }
   ],
   "source": [
    "from keras.preprocessing.sequence import pad_sequences\n",
    "from keras.utils import to_categorical\n",
    "\n",
    "max_len = 100\n",
    "\n",
    "X_train = pad_sequences(X_train, maxlen = max_len)\n",
    "X_test = pad_sequences(X_test, maxlen = max_len)\n",
    "y_train = pad_sequences(y_train, maxlen = max_len)\n",
    "y_test = pad_sequences(y_test, maxlen = max_len)\n",
    "\n",
    "y_train_one_hot = to_categorical(y_train, num_classes=vocab_size)\n",
    "y_test_one_hot = to_categorical(y_test, num_classes=vocab_size)\n",
    "\n",
    "X_train.shape"
   ]
  },
  {
   "cell_type": "markdown",
   "metadata": {},
   "source": [
    "## Modello LSTM"
   ]
  },
  {
   "cell_type": "code",
   "execution_count": 9,
   "metadata": {},
   "outputs": [
    {
     "name": "stdout",
     "output_type": "stream",
     "text": [
      "Model: \"sequential\"\n",
      "_________________________________________________________________\n",
      " Layer (type)                Output Shape              Param #   \n",
      "=================================================================\n",
      " embedding (Embedding)       (None, 100, 50)           151500    \n",
      "                                                                 \n",
      " lstm (LSTM)                 (None, 100, 32)           10624     \n",
      "                                                                 \n",
      " dense (Dense)               (None, 100, 3030)         99990     \n",
      "                                                                 \n",
      "=================================================================\n",
      "Total params: 262114 (1023.88 KB)\n",
      "Trainable params: 262114 (1023.88 KB)\n",
      "Non-trainable params: 0 (0.00 Byte)\n",
      "_________________________________________________________________\n"
     ]
    }
   ],
   "source": [
    "from keras.models import Sequential\n",
    "from keras.layers import Dense, Embedding, LSTM\n",
    "\n",
    "model = Sequential()\n",
    "\n",
    "model.add(Embedding(vocab_size, 50, input_length=max_len))\n",
    "model.add(LSTM(32 ,return_sequences=True))\n",
    "model.add(Dense(vocab_size, activation='softmax'))  # Softmax per la classificazione delle parole\n",
    "\n",
    "model.summary()"
   ]
  },
  {
   "cell_type": "code",
   "execution_count": 12,
   "metadata": {},
   "outputs": [
    {
     "name": "stdout",
     "output_type": "stream",
     "text": [
      "Epoch 1/5\n",
      "80/80 [==============================] - 12s 89ms/step - loss: 1.5367 - accuracy: 0.7997 - val_loss: 1.5976 - val_accuracy: 0.7952\n",
      "Epoch 2/5\n",
      "80/80 [==============================] - 8s 99ms/step - loss: 1.5176 - accuracy: 0.7997 - val_loss: 1.5864 - val_accuracy: 0.7952\n",
      "Epoch 3/5\n",
      "80/80 [==============================] - 6s 73ms/step - loss: 1.5037 - accuracy: 0.7997 - val_loss: 1.5798 - val_accuracy: 0.7952\n",
      "Epoch 4/5\n",
      "80/80 [==============================] - 6s 71ms/step - loss: 1.4946 - accuracy: 0.7997 - val_loss: 1.5752 - val_accuracy: 0.7952\n",
      "Epoch 5/5\n",
      "80/80 [==============================] - 6s 81ms/step - loss: 1.4883 - accuracy: 0.7997 - val_loss: 1.5725 - val_accuracy: 0.7952\n"
     ]
    },
    {
     "data": {
      "text/plain": [
       "<keras.src.callbacks.History at 0x1e7f454e890>"
      ]
     },
     "execution_count": 12,
     "metadata": {},
     "output_type": "execute_result"
    }
   ],
   "source": [
    "model.compile(loss='categorical_crossentropy', optimizer='rmsprop', metrics=['accuracy'])\n",
    "model.fit(X_train, y_train_one_hot, batch_size=4, validation_split=0.2, epochs=5)"
   ]
  },
  {
   "cell_type": "code",
   "execution_count": 33,
   "metadata": {},
   "outputs": [
    {
     "name": "stdout",
     "output_type": "stream",
     "text": [
      "3/3 [==============================] - 0s 122ms/step - loss: 1.8068 - accuracy: 0.7767\n"
     ]
    },
    {
     "data": {
      "text/plain": [
       "[1.8067818880081177, 0.7767123579978943]"
      ]
     },
     "execution_count": 33,
     "metadata": {},
     "output_type": "execute_result"
    }
   ],
   "source": [
    "model.evaluate(X_test, y_test_one_hot)"
   ]
  }
 ],
 "metadata": {
  "kernelspec": {
   "display_name": "Python 3",
   "language": "python",
   "name": "python3"
  },
  "language_info": {
   "codemirror_mode": {
    "name": "ipython",
    "version": 3
   },
   "file_extension": ".py",
   "mimetype": "text/x-python",
   "name": "python",
   "nbconvert_exporter": "python",
   "pygments_lexer": "ipython3",
   "version": "3.11.0"
  }
 },
 "nbformat": 4,
 "nbformat_minor": 2
}
